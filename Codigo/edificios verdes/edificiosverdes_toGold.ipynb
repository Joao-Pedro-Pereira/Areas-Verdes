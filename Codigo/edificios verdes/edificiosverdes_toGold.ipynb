{
 "cells": [
  {
   "cell_type": "code",
   "execution_count": 1,
   "id": "0510cae7-c03e-4cf5-8579-0ffc9bfaf7fc",
   "metadata": {},
   "outputs": [],
   "source": [
    "from pyspark.sql import SparkSession\n",
    "from pyspark.sql import Row\n",
    "from delta import *\n",
    "from os import PathLike\n",
    "from hdfs import InsecureClient\n",
    "from pyspark.sql.types import LongType, StringType, StructField, StructType, BooleanType, ArrayType, IntegerType\n",
    "from pyspark.sql.functions import when, col, concat, lit, substring, avg, sum, count, countDistinct\n",
    "\n",
    "# warehouse_location points to the default location for managed databases and tables\n",
    "warehouse_location = 'hdfs://hdfs-nn:9000/AreasVerdes/warehouse'\n",
    "\n",
    "builder = SparkSession \\\n",
    "    .builder \\\n",
    "    .master(\"local[2]\") \\\n",
    "    .appName(\"Python Spark DataFrames and SQL\") \\\n",
    "    .config(\"spark.sql.warehouse.dir\", warehouse_location) \\\n",
    "    .config(\"hive.metastore.uris\", \"thrift://hive-metastore:9083\") \\\n",
    "    .config(\"spark.sql.extensions\", \"io.delta.sql.DeltaSparkSessionExtension\") \\\n",
    "    .config(\"spark.sql.catalog.spark_catalog\", \"org.apache.spark.sql.delta.catalog.DeltaCatalog\") \\\n",
    "    .config(\"spark.jars.packages\", \"io.delta:delta-core_2.12:1.0.0\") \\\n",
    "    .enableHiveSupport() \\\n",
    "\n",
    "spark = configure_spark_with_delta_pip(builder).getOrCreate()"
   ]
  },
  {
   "cell_type": "code",
   "execution_count": 2,
   "id": "87b10219-c3dd-4ef6-a459-c02a10210004",
   "metadata": {},
   "outputs": [],
   "source": [
    "edificiosverdes_gold = spark.table(\"AreasVerdes.edificiosverdes_Table\")"
   ]
  },
  {
   "cell_type": "code",
   "execution_count": 3,
   "id": "f994ef97-fd14-47fb-9f00-d3b83db1e2c8",
   "metadata": {},
   "outputs": [
    {
     "name": "stdout",
     "output_type": "stream",
     "text": [
      "+--------+--------------------+--------------+\n",
      "| borough|          Tree_Commo|numero_arvores|\n",
      "+--------+--------------------+--------------+\n",
      "|  Queens|October Glory Red...|            14|\n",
      "|  Queens|        Chestnut Oak|             2|\n",
      "|Brooklyn|Summer Glow Bird ...|             4|\n",
      "|   Bronx|   Sweetbay Magnolia|             6|\n",
      "|   Bronx|     Dura-Heat Birch|             2|\n",
      "|Brooklyn|         Field Maple|             5|\n",
      "|  Queens|Não temos informação|           378|\n",
      "|Brooklyn|Fastigiata Europe...|             1|\n",
      "|Brooklyn|Spring Snow Craba...|             3|\n",
      "|  Queens|      Eastern Redbud|            83|\n",
      "|Brooklyn|Regent Japanese P...|             2|\n",
      "|   Bronx|   Hardy Rubber Tree|             3|\n",
      "|  Queens|  Crimson Point Plum|             4|\n",
      "|   Bronx|Emerald Avenue Ho...|             1|\n",
      "|Brooklyn|        Sawtooth Oak|            45|\n",
      "|   Bronx|Village Green Zel...|             1|\n",
      "|Brooklyn|Thornless Common ...|            82|\n",
      "|Brooklyn|   Eastern Black Oak|             5|\n",
      "|   Bronx|   Karpick Red Maple|             2|\n",
      "|   Bronx|Shawnee Brave Bal...|             1|\n",
      "+--------+--------------------+--------------+\n",
      "only showing top 20 rows\n",
      "\n"
     ]
    }
   ],
   "source": [
    "# estatisticas para numero de arvores por bairro\n",
    "numero_arvores_gold = edificiosverdes_gold \\\n",
    "    .groupBy(\"borough\", \"Tree_Commo\") \\\n",
    "    .agg(\n",
    "        count(edificiosverdes_gold.Tree_Commo).alias(\"numero_arvores\"),\n",
    "    )\n",
    "\n",
    "numero_arvores_gold = numero_arvores_gold.withColumn(\"numero_arvores\",col(\"numero_arvores\").cast(IntegerType())) \n",
    "\n",
    "\n",
    "numero_arvores_gold.show();"
   ]
  },
  {
   "cell_type": "code",
   "execution_count": 4,
   "id": "91bb0015-43c0-4109-b9ec-5c46bbdcfe8f",
   "metadata": {},
   "outputs": [
    {
     "name": "stdout",
     "output_type": "stream",
     "text": [
      "+-------------+--------------------+------+\n",
      "|      borough|              Status|estado|\n",
      "+-------------+--------------------+------+\n",
      "|       Queens|         Constructed|   176|\n",
      "|    Manhattan|Constructed (Full...|     6|\n",
      "|       Queens|100% Design Accepted|   214|\n",
      "|     Brooklyn|Constructed (Full...|  3539|\n",
      "|        Bronx|Constructed (In G...|   353|\n",
      "|        Bronx|Constructed (Full...|   378|\n",
      "|Staten Island|         Constructed|    39|\n",
      "|        Bronx|         Constructed|   190|\n",
      "|        Bronx|100% Design Submi...|     5|\n",
      "|       Queens|     In Construction|   788|\n",
      "|     Brooklyn|100% Design Submi...|   659|\n",
      "|        Bronx|90% Design Submitted|     1|\n",
      "|    Manhattan|100% Design Accepted|     6|\n",
      "|       Queens|Constructed (In G...|  1663|\n",
      "|        Bronx|100% Design Accepted|    14|\n",
      "|       Queens|Constructed (Full...|  4142|\n",
      "|     Brooklyn|100% Design Accepted|   684|\n",
      "|    Manhattan|     In Construction|     2|\n",
      "|     Brooklyn|Constructed (In G...|    28|\n",
      "|    Manhattan|         Constructed|   106|\n",
      "+-------------+--------------------+------+\n",
      "only showing top 20 rows\n",
      "\n"
     ]
    }
   ],
   "source": [
    "#estatisticas para  estado de contrucao dos edificios por bairro\n",
    "\n",
    "estado_construcao_gold = edificiosverdes_gold \\\n",
    "    .groupBy(\"borough\", \"Status\") \\\n",
    "    .agg(\n",
    "        count(edificiosverdes_gold.Status).alias(\"estado\"),\n",
    "    )\n",
    "\n",
    "estado_construcao_gold = estado_construcao_gold.withColumn(\"estado\",col(\"estado\").cast(IntegerType())) \n",
    "\n",
    "estado_construcao_gold.show();"
   ]
  },
  {
   "cell_type": "code",
   "execution_count": 5,
   "id": "522318df-3544-453d-a7b3-ea2aa6e14a8b",
   "metadata": {},
   "outputs": [
    {
     "name": "stdout",
     "output_type": "stream",
     "text": [
      "+-------------+--------------------+--------------------+\n",
      "|      borough|         valor_medio|area_edificiosverdes|\n",
      "+-------------+--------------------+--------------------+\n",
      "|       Queens|3.7936124765423098E9|               36503|\n",
      "|     Brooklyn|2.8256555587891145E9|               27176|\n",
      "|Staten Island| 4.654986778883938E9|                 213|\n",
      "|    Manhattan| 9.445894957021874E8|                 259|\n",
      "|        Bronx|1.9086224215276945E9|                6112|\n",
      "+-------------+--------------------+--------------------+\n",
      "\n"
     ]
    }
   ],
   "source": [
    "#estatisticas para media do valor do lote por bairro continua mal\n",
    "\n",
    "media_valor_gold = edificiosverdes_gold \\\n",
    "    .groupBy(\"borough\") \\\n",
    "    .agg(\n",
    "        avg(edificiosverdes_gold.BBL).alias(\"valor_medio\"),\n",
    "        sum(edificiosverdes_gold.Asset_leng).alias(\"area_edificiosverdes\"),\n",
    "    )\n",
    "\n",
    "media_valor_gold = media_valor_gold.withColumn(\"valor_medio\",col(\"valor_medio\")) \n",
    "media_valor_gold = media_valor_gold.withColumn(\"area_edificiosverdes\",col(\"area_edificiosverdes\").cast(IntegerType()))\n",
    "\n",
    "media_valor_gold.show();"
   ]
  },
  {
   "cell_type": "code",
   "execution_count": 4,
   "id": "a5a8592e-84f7-4733-911f-44d049fc4e2b",
   "metadata": {},
   "outputs": [],
   "source": [
    "#guarda numero de arvores\n",
    "numero_arvores_gold \\\n",
    "    .select(\"borough\", \"Tree_Commo\",\"numero_arvores\") \\\n",
    "    .write \\\n",
    "    .mode(\"overwrite\") \\\n",
    "    .format(\"delta\") \\\n",
    "    .save(\"hdfs://hdfs-nn:9000/AreasVerdes/gold/edificiosverdes/numero_arvores\")"
   ]
  },
  {
   "cell_type": "code",
   "execution_count": 7,
   "id": "ba4716ce-4700-4652-a2c0-475dcbc522d2",
   "metadata": {},
   "outputs": [],
   "source": [
    "#guarda estado de construcao\n",
    "\n",
    "#guarda numero de arvores\n",
    "estado_construcao_gold \\\n",
    "    .select(\"borough\", \"Status\",\"estado\") \\\n",
    "    .write \\\n",
    "    .mode(\"overwrite\") \\\n",
    "    .format(\"delta\") \\\n",
    "    .save(\"hdfs://hdfs-nn:9000/AreasVerdes/gold/edificiosverdes/estado_construcao\")"
   ]
  },
  {
   "cell_type": "code",
   "execution_count": 8,
   "id": "68d77355-8a76-4550-94f5-af05b7969ce0",
   "metadata": {},
   "outputs": [],
   "source": [
    "#guarda valor medio lote e area\n",
    "\n",
    "#guarda numero de arvores\n",
    "media_valor_gold \\\n",
    "    .select(\"borough\", \"valor_medio\",\"area_edificiosverdes\") \\\n",
    "    .write \\\n",
    "    .mode(\"overwrite\") \\\n",
    "    .format(\"delta\") \\\n",
    "    .save(\"hdfs://hdfs-nn:9000/AreasVerdes/gold/edificiosverdes/valor_medio_lote_e_area\")"
   ]
  },
  {
   "cell_type": "code",
   "execution_count": null,
   "id": "56bff77b-5cbf-46d9-9e0d-b738f4ba435d",
   "metadata": {},
   "outputs": [],
   "source": []
  }
 ],
 "metadata": {
  "kernelspec": {
   "display_name": "Python 3 (ipykernel)",
   "language": "python",
   "name": "python3"
  },
  "language_info": {
   "codemirror_mode": {
    "name": "ipython",
    "version": 3
   },
   "file_extension": ".py",
   "mimetype": "text/x-python",
   "name": "python",
   "nbconvert_exporter": "python",
   "pygments_lexer": "ipython3",
   "version": "3.10.6"
  }
 },
 "nbformat": 4,
 "nbformat_minor": 5
}
