{
 "cells": [
  {
   "cell_type": "code",
   "execution_count": 2,
   "id": "049de2d2-be35-4f1a-9827-d820e8097c85",
   "metadata": {},
   "outputs": [
    {
     "data": {
      "text/plain": [
       "'/AreasVerdes/bronze/edificiosVerdes_csv/edificiosVerdes.csv'"
      ]
     },
     "execution_count": 2,
     "metadata": {},
     "output_type": "execute_result"
    }
   ],
   "source": [
    "from os import PathLike\n",
    "from hdfs import InsecureClient\n",
    "client = InsecureClient(\"http://hdfs-nn:9870\", user=\"anonymous\")\n",
    "\n",
    "from_path = \"./edificiosVerdes.csv\"\n",
    "to_path = \"/AreasVerdes/bronze/edificiosVerdes_csv/edificiosVerdes.csv\"\n",
    "\n",
    "client.delete(to_path)\n",
    "\n",
    "client.upload(to_path, from_path)"
   ]
  },
  {
   "cell_type": "code",
   "execution_count": null,
   "id": "148f1862-0595-4a32-ad30-95268b75c10a",
   "metadata": {},
   "outputs": [],
   "source": []
  }
 ],
 "metadata": {
  "kernelspec": {
   "display_name": "Python 3 (ipykernel)",
   "language": "python",
   "name": "python3"
  },
  "language_info": {
   "codemirror_mode": {
    "name": "ipython",
    "version": 3
   },
   "file_extension": ".py",
   "mimetype": "text/x-python",
   "name": "python",
   "nbconvert_exporter": "python",
   "pygments_lexer": "ipython3",
   "version": "3.10.6"
  }
 },
 "nbformat": 4,
 "nbformat_minor": 5
}
