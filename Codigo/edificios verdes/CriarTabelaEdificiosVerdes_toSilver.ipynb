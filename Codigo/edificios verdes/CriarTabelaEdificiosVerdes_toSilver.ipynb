{
 "cells": [
  {
   "cell_type": "code",
   "execution_count": 1,
   "id": "10dd1bfd",
   "metadata": {},
   "outputs": [
    {
     "name": "stdout",
     "output_type": "stream",
     "text": [
      "Requirement already satisfied: delta-spark in /opt/conda/lib/python3.10/site-packages (2.1.0)\n",
      "Requirement already satisfied: pyspark<3.4.0,>=3.3.0 in /usr/local/spark-3.3.0-bin-hadoop3/python (from delta-spark) (3.3.0)\n",
      "Requirement already satisfied: importlib-metadata>=1.0.0 in /opt/conda/lib/python3.10/site-packages (from delta-spark) (4.11.4)\n",
      "Requirement already satisfied: zipp>=0.5 in /opt/conda/lib/python3.10/site-packages (from importlib-metadata>=1.0.0->delta-spark) (3.9.0)\n",
      "Requirement already satisfied: py4j==0.10.9.5 in /opt/conda/lib/python3.10/site-packages (from pyspark<3.4.0,>=3.3.0->delta-spark) (0.10.9.5)\n",
      "Note: you may need to restart the kernel to use updated packages.\n"
     ]
    }
   ],
   "source": [
    "pip install delta-spark"
   ]
  },
  {
   "cell_type": "code",
   "execution_count": 1,
   "id": "governmental-sullivan",
   "metadata": {},
   "outputs": [],
   "source": [
    "from pyspark.sql import SparkSession\n",
    "from pyspark.sql import Row\n",
    "from delta import *\n",
    "\n",
    "# warehouse_location points to the default location for managed databases and tables\n",
    "warehouse_location = 'hdfs://hdfs-nn:9000/AreasVerdes/warehouse'\n",
    "\n",
    "builder = SparkSession \\\n",
    "    .builder \\\n",
    "    .appName(\"Python Spark SQL Hive integration example\") \\\n",
    "    .config(\"spark.sql.warehouse.dir\", warehouse_location) \\\n",
    "    .config(\"hive.metastore.uris\", \"thrift://hive-metastore:9083\") \\\n",
    "    .config(\"spark.sql.extensions\", \"io.delta.sql.DeltaSparkSessionExtension\") \\\n",
    "    .config(\"spark.sql.catalog.spark_catalog\", \"org.apache.spark.sql.delta.catalog.DeltaCatalog\") \\\n",
    "    .config(\"spark.jars.packages\", \"io.delta:delta-core_2.12:1.0.0\") \\\n",
    "    .enableHiveSupport() \\\n",
    "\n",
    "spark = spark = configure_spark_with_delta_pip(builder).getOrCreate()"
   ]
  },
  {
   "cell_type": "code",
   "execution_count": 2,
   "id": "dominant-executive",
   "metadata": {},
   "outputs": [
    {
     "name": "stdout",
     "output_type": "stream",
     "text": [
      "+-----------+\n",
      "|  namespace|\n",
      "+-----------+\n",
      "|areasverdes|\n",
      "|    default|\n",
      "|       demo|\n",
      "+-----------+\n",
      "\n"
     ]
    }
   ],
   "source": [
    "#ver data bases existentes\n",
    "spark.sql(\n",
    "    \"\"\"\n",
    "    SHOW DATABASES\n",
    "    \"\"\"\n",
    ").show()"
   ]
  },
  {
   "cell_type": "code",
   "execution_count": 3,
   "id": "funny-republican",
   "metadata": {},
   "outputs": [
    {
     "ename": "AnalysisException",
     "evalue": "Namespace 'AreasVerdes' already exists",
     "output_type": "error",
     "traceback": [
      "\u001b[0;31m---------------------------------------------------------------------------\u001b[0m",
      "\u001b[0;31mAnalysisException\u001b[0m                         Traceback (most recent call last)",
      "Cell \u001b[0;32mIn [3], line 2\u001b[0m\n\u001b[1;32m      1\u001b[0m \u001b[38;5;66;03m#criar nova database\u001b[39;00m\n\u001b[0;32m----> 2\u001b[0m \u001b[43mspark\u001b[49m\u001b[38;5;241;43m.\u001b[39;49m\u001b[43msql\u001b[49m\u001b[43m(\u001b[49m\n\u001b[1;32m      3\u001b[0m \u001b[43m    \u001b[49m\u001b[38;5;124;43;03m\"\"\"\u001b[39;49;00m\n\u001b[1;32m      4\u001b[0m \u001b[38;5;124;43;03m    CREATE DATABASE AreasVerdes LOCATION 'hdfs://hdfs-nn:9000/AreasVerdes/warehouse/AreasVerdes.db/'\u001b[39;49;00m\n\u001b[1;32m      5\u001b[0m \u001b[38;5;124;43;03m    \"\"\"\u001b[39;49;00m\n\u001b[1;32m      6\u001b[0m \u001b[43m)\u001b[49m\n",
      "File \u001b[0;32m/usr/local/spark/python/pyspark/sql/session.py:1034\u001b[0m, in \u001b[0;36mSparkSession.sql\u001b[0;34m(self, sqlQuery, **kwargs)\u001b[0m\n\u001b[1;32m   1032\u001b[0m     sqlQuery \u001b[38;5;241m=\u001b[39m formatter\u001b[38;5;241m.\u001b[39mformat(sqlQuery, \u001b[38;5;241m*\u001b[39m\u001b[38;5;241m*\u001b[39mkwargs)\n\u001b[1;32m   1033\u001b[0m \u001b[38;5;28;01mtry\u001b[39;00m:\n\u001b[0;32m-> 1034\u001b[0m     \u001b[38;5;28;01mreturn\u001b[39;00m DataFrame(\u001b[38;5;28;43mself\u001b[39;49m\u001b[38;5;241;43m.\u001b[39;49m\u001b[43m_jsparkSession\u001b[49m\u001b[38;5;241;43m.\u001b[39;49m\u001b[43msql\u001b[49m\u001b[43m(\u001b[49m\u001b[43msqlQuery\u001b[49m\u001b[43m)\u001b[49m, \u001b[38;5;28mself\u001b[39m)\n\u001b[1;32m   1035\u001b[0m \u001b[38;5;28;01mfinally\u001b[39;00m:\n\u001b[1;32m   1036\u001b[0m     \u001b[38;5;28;01mif\u001b[39;00m \u001b[38;5;28mlen\u001b[39m(kwargs) \u001b[38;5;241m>\u001b[39m \u001b[38;5;241m0\u001b[39m:\n",
      "File \u001b[0;32m/usr/local/spark/python/lib/py4j-0.10.9.5-src.zip/py4j/java_gateway.py:1321\u001b[0m, in \u001b[0;36mJavaMember.__call__\u001b[0;34m(self, *args)\u001b[0m\n\u001b[1;32m   1315\u001b[0m command \u001b[38;5;241m=\u001b[39m proto\u001b[38;5;241m.\u001b[39mCALL_COMMAND_NAME \u001b[38;5;241m+\u001b[39m\\\n\u001b[1;32m   1316\u001b[0m     \u001b[38;5;28mself\u001b[39m\u001b[38;5;241m.\u001b[39mcommand_header \u001b[38;5;241m+\u001b[39m\\\n\u001b[1;32m   1317\u001b[0m     args_command \u001b[38;5;241m+\u001b[39m\\\n\u001b[1;32m   1318\u001b[0m     proto\u001b[38;5;241m.\u001b[39mEND_COMMAND_PART\n\u001b[1;32m   1320\u001b[0m answer \u001b[38;5;241m=\u001b[39m \u001b[38;5;28mself\u001b[39m\u001b[38;5;241m.\u001b[39mgateway_client\u001b[38;5;241m.\u001b[39msend_command(command)\n\u001b[0;32m-> 1321\u001b[0m return_value \u001b[38;5;241m=\u001b[39m \u001b[43mget_return_value\u001b[49m\u001b[43m(\u001b[49m\n\u001b[1;32m   1322\u001b[0m \u001b[43m    \u001b[49m\u001b[43manswer\u001b[49m\u001b[43m,\u001b[49m\u001b[43m \u001b[49m\u001b[38;5;28;43mself\u001b[39;49m\u001b[38;5;241;43m.\u001b[39;49m\u001b[43mgateway_client\u001b[49m\u001b[43m,\u001b[49m\u001b[43m \u001b[49m\u001b[38;5;28;43mself\u001b[39;49m\u001b[38;5;241;43m.\u001b[39;49m\u001b[43mtarget_id\u001b[49m\u001b[43m,\u001b[49m\u001b[43m \u001b[49m\u001b[38;5;28;43mself\u001b[39;49m\u001b[38;5;241;43m.\u001b[39;49m\u001b[43mname\u001b[49m\u001b[43m)\u001b[49m\n\u001b[1;32m   1324\u001b[0m \u001b[38;5;28;01mfor\u001b[39;00m temp_arg \u001b[38;5;129;01min\u001b[39;00m temp_args:\n\u001b[1;32m   1325\u001b[0m     temp_arg\u001b[38;5;241m.\u001b[39m_detach()\n",
      "File \u001b[0;32m/usr/local/spark/python/pyspark/sql/utils.py:196\u001b[0m, in \u001b[0;36mcapture_sql_exception.<locals>.deco\u001b[0;34m(*a, **kw)\u001b[0m\n\u001b[1;32m    192\u001b[0m converted \u001b[38;5;241m=\u001b[39m convert_exception(e\u001b[38;5;241m.\u001b[39mjava_exception)\n\u001b[1;32m    193\u001b[0m \u001b[38;5;28;01mif\u001b[39;00m \u001b[38;5;129;01mnot\u001b[39;00m \u001b[38;5;28misinstance\u001b[39m(converted, UnknownException):\n\u001b[1;32m    194\u001b[0m     \u001b[38;5;66;03m# Hide where the exception came from that shows a non-Pythonic\u001b[39;00m\n\u001b[1;32m    195\u001b[0m     \u001b[38;5;66;03m# JVM exception message.\u001b[39;00m\n\u001b[0;32m--> 196\u001b[0m     \u001b[38;5;28;01mraise\u001b[39;00m converted \u001b[38;5;28;01mfrom\u001b[39;00m \u001b[38;5;28mNone\u001b[39m\n\u001b[1;32m    197\u001b[0m \u001b[38;5;28;01melse\u001b[39;00m:\n\u001b[1;32m    198\u001b[0m     \u001b[38;5;28;01mraise\u001b[39;00m\n",
      "\u001b[0;31mAnalysisException\u001b[0m: Namespace 'AreasVerdes' already exists"
     ]
    }
   ],
   "source": [
    "#criar nova database\n",
    "spark.sql(\n",
    "    \"\"\"\n",
    "    CREATE DATABASE AreasVerdes LOCATION 'hdfs://hdfs-nn:9000/AreasVerdes/warehouse/AreasVerdes.db/'\n",
    "    \"\"\"\n",
    ")"
   ]
  },
  {
   "cell_type": "code",
   "execution_count": null,
   "id": "outer-reminder",
   "metadata": {},
   "outputs": [],
   "source": [
    "#ver se a database foi criada com sucesso\n",
    "spark.sql(\n",
    "    \"\"\"\n",
    "    SHOW DATABASES\n",
    "    \"\"\"\n",
    ").show()"
   ]
  },
  {
   "cell_type": "code",
   "execution_count": null,
   "id": "massive-throw",
   "metadata": {},
   "outputs": [],
   "source": [
    "#tables da database que criei\n",
    "spark.sql(\n",
    "    \"\"\"\n",
    "    SHOW TABLES FROM AreasVerdes\n",
    "    \"\"\"\n",
    ").show()"
   ]
  },
  {
   "cell_type": "code",
   "execution_count": null,
   "id": "2456ef84",
   "metadata": {},
   "outputs": [],
   "source": [
    "#crio a tabela\n",
    "spark.sql(\n",
    "    \"\"\"\n",
    "    DROP TABLE IF EXISTS AreasVerdes.edificiosverdes_Table\n",
    "    \"\"\"\n",
    ")\n",
    "\n",
    "spark.sql(\n",
    "    \"\"\"\n",
    "    CREATE EXTERNAL TABLE AreasVerdes.edificiosverdes_Table (\n",
    "   The_geom STRING,      \n",
    "   Asset_Id INTEGER,\n",
    "   GI_ID STRING,\n",
    "   DEP_ContrA STRING,\n",
    "   Project_Ty STRING,\n",
    "   Row_Onsite STRING,\n",
    "   Project_Na STRING,\n",
    "   Asset_Type STRING,\n",
    "   Status STRING,\n",
    "   Asset_X_Co FLOAT,\n",
    "   Asset_Y_Co FLOAT,\n",
    "   Borough STRING,\n",
    "   Sewer_Type STRING,\n",
    "   Outfall STRING,\n",
    "   Waterbody STRING,\n",
    "   BBL DOUBLE,\n",
    "   Community INTEGER,\n",
    "   City_Counc INTEGER,\n",
    "   Assembly_D STRING,\n",
    "   Asset_leng DOUBLE,\n",
    "   Asset_Widt DOUBLE,\n",
    "   Asset_Area DOUBLE,\n",
    "   GI_Feature STRING,\n",
    "   Tree_Latin STRING,\n",
    "   Tree_Commo STRING,\n",
    "   Constructi STRING,\n",
    "   Status_Gro STRING\n",
    "    )\n",
    "    USING DELTA\n",
    "    \n",
    "    LOCATION 'hdfs://hdfs-nn:9000/AreasVerdes/silver/edificiosverdes'\n",
    "    \"\"\"\n",
    ")"
   ]
  },
  {
   "cell_type": "code",
   "execution_count": null,
   "id": "innovative-commonwealth",
   "metadata": {},
   "outputs": [],
   "source": [
    "#tables da database que criei depois de criar a tabela\n",
    "spark.sql(\n",
    "    \"\"\"\n",
    "    SHOW TABLES FROM AreasVerdes\n",
    "    \"\"\"\n",
    ").show()"
   ]
  },
  {
   "cell_type": "code",
   "execution_count": 4,
   "id": "consistent-checklist",
   "metadata": {},
   "outputs": [
    {
     "name": "stdout",
     "output_type": "stream",
     "text": [
      "+--------------------+--------+-------+----------+----------+----------+--------------------+----------+--------------------+----------+----------+-------+----------+-------+--------------------+-----------------+---------+----------+--------------------+------------------+------------------+------------------+--------------------+--------------------+--------------------+--------------------+------------+\n",
      "|            The_geom|Asset_Id|  GI_ID|DEP_ContrA|Project_Ty|Row_Onsite|          Project_Na|Asset_Type|              Status|Asset_X_Co|Asset_Y_Co|Borough|Sewer_Type|Outfall|           Waterbody|              BBL|Community|City_Counc|          Assembly_D|        Asset_leng|        Asset_Widt|        Asset_Area|          GI_Feature|          Tree_Latin|          Tree_Commo|          Constructi|  Status_Gro|\n",
      "+--------------------+--------+-------+----------+----------+----------+--------------------+----------+--------------------+----------+----------+-------+----------+-------+--------------------+-----------------+---------+----------+--------------------+------------------+------------------+------------------+--------------------+--------------------+--------------------+--------------------+------------+\n",
      "|POINT (-73.742758...|  103565|  1032A|CSO-PLANYC|  External|       ROW|South East Queens...|      ROWB|100% Design Accepted| 1055577.0| 194796.23| Queens|  Combined|JAM-005|Jamaica Bay and T...|3.9487653012665E9|      413|        27|Não temos informação|             3.048|            1.2192|            12.192|            Standard|             No Tree|                 N/A|Não temos informação|Final Design|\n",
      "|POINT (-73.742740...|  103566|  1032B|CSO-PLANYC|  External|       ROW|South East Queens...|      ROWB|100% Design Accepted| 1055581.9|  194810.4| Queens|  Combined|JAM-005|Jamaica Bay and T...|3.9487653012665E9|      413|        27|Não temos informação|             3.048|            1.2192|            12.192|            Standard|      Quercus prinus|        Chestnut Oak|Não temos informação|Final Design|\n",
      "|POINT (-73.742672...|  103567|  1032C|CSO-PLANYC|  External|       ROW|South East Queens...|      ROWB|100% Design Accepted| 1055600.6|  194864.7| Queens|  Combined|JAM-005|Jamaica Bay and T...|3.9487653012665E9|      413|        27|Não temos informação|            3.9624|            1.2192|           15.8496|            Standard|             No Tree|                 N/A|Não temos informação|Final Design|\n",
      "|POINT (-73.742650...|  103568|  1032D|CSO-PLANYC|  External|       ROW|South East Queens...|      ROWB|100% Design Accepted| 1055606.5| 194881.72| Queens|  Combined|JAM-005|Jamaica Bay and T...|3.9487653012665E9|      413|        27|Não temos informação|            3.9624|            1.2192|           15.8496|            Standard|      Quercus prinus|        Chestnut Oak|Não temos informação|Final Design|\n",
      "|POINT (-73.743814...|  103569|  1034A|CSO-PLANYC|  External|       ROW|South East Queens...|     ROWGS|100% Design Accepted| 1055282.2| 195391.83| Queens|  Combined|JAM-005|Jamaica Bay and T...|3.9487652782097E9|      413|        27|Não temos informação|            3.9624|            1.0668|13.868400000000001|Não temos informação|             No Tree|                 N/A|Não temos informação|Final Design|\n",
      "|POINT (-73.743065...|  103573|  1040C|CSO-PLANYC|  External|       ROW|South East Queens...|     ROWGS|100% Design Accepted| 1055490.2|  195350.7| Queens|  Combined|JAM-005|Jamaica Bay and T...|3.9497548068953E9|      413|        27|Não temos informação|            3.9624|            1.0668|13.868400000000001|Não temos informação|             No Tree|                 N/A|Não temos informação|Final Design|\n",
      "|POINT (-73.743295...|  103575|  1043A|CSO-PLANYC|  External|       ROW|South East Queens...|      ROWB|100% Design Accepted| 1055426.2|  195379.0| Queens|  Combined|JAM-005|Jamaica Bay and T...|3.9497548510875E9|      413|        27|Não temos informação| 5.486400000000001|            1.2192|21.945600000000002|            Standard|Juniperus chinens...|     Chinese Juniper|Não temos informação|Final Design|\n",
      "|POINT (-73.740890...|  103577|  1046A|CSO-PLANYC|  External|       ROW|South East Queens...|      ROWB|100% Design Accepted| 1056092.2| 195656.28| Queens|  Combined|JAM-005|Jamaica Bay and T...|3.9497643725852E9|      413|        27|Não temos informação|            3.9624|1.3716000000000002|           17.8308|Type A - Stone Co...|             No Tree|                 N/A|Não temos informação|Final Design|\n",
      "|POINT (-73.740955...|  103578|  1046B|CSO-PLANYC|  External|       ROW|South East Queens...|      ROWB|100% Design Accepted| 1056074.4| 195657.67| Queens|  Combined|JAM-005|Jamaica Bay and T...|3.9497643725852E9|      413|        27|Não temos informação|            3.9624|1.3716000000000002|           17.8308|Type A - Stone Co...|     Zelkova serrata|    Japanese Zelkova|Não temos informação|Final Design|\n",
      "|POINT (-73.745443...|  103713|  1249A|CSO-PLANYC|  External|       ROW|South East Queens...|      ROWB|100% Design Accepted| 1054829.8| 195711.56| Queens|  Combined|JAM-005|Jamaica Bay and T...|3.9485346640961E9|      413|        27|Não temos informação|            3.9624|1.3716000000000002|           17.8308|            Standard|Tilia americana '...|Continental Appea...|Não temos informação|Final Design|\n",
      "|POINT (-73.745422...|  103714|  1249B|CSO-PLANYC|  External|       ROW|South East Queens...|      ROWB|100% Design Accepted| 1054835.6| 195694.55| Queens|  Combined|JAM-005|Jamaica Bay and T...|3.9485346631354E9|      413|        27|Não temos informação|            3.9624|1.3716000000000002|           17.8308|            Standard|Tilia americana '...|Continental Appea...|Não temos informação|Final Design|\n",
      "|POINT (-73.745018...|  103715|  1249C|CSO-PLANYC|  External|       ROW|South East Queens...|      ROWB|100% Design Accepted| 1054948.5| 195368.84| Queens|  Combined|JAM-005|Jamaica Bay and T...|3.9485346429607E9|      413|        27|Não temos informação|3.3528000000000002|            1.2192|13.411200000000001|            Standard|             No Tree|                 N/A|Não temos informação|Final Design|\n",
      "|POINT (-73.744505...|  103716|  1250A|CSO-PLANYC|  External|       ROW|South East Queens...|      ROWB|100% Design Accepted| 1055090.2|  195587.1| Queens|  Combined|JAM-005|Jamaica Bay and T...| 3.948534670821E9|      413|        27|Não temos informação|            3.9624|1.3716000000000002|           17.8308|            Standard|             No Tree|                 N/A|Não temos informação|Final Design|\n",
      "|POINT (-73.744545...|  103717|  1250B|CSO-PLANYC|  External|       ROW|South East Queens...|      ROWB|100% Design Accepted| 1055079.1|  195598.6| Queens|  Combined|JAM-005|Jamaica Bay and T...| 3.948534670821E9|      413|        27|Não temos informação|3.3528000000000002|1.3716000000000002|           15.0876|            Standard|   Quercus palustris|             Pin Oak|Não temos informação|Final Design|\n",
      "|POINT (-73.744815...|  103718|  1250C|CSO-PLANYC|  External|       ROW|South East Queens...|      ROWB|100% Design Accepted| 1055004.1| 195675.39| Queens|  Combined|JAM-005|Jamaica Bay and T...|3.9485346688996E9|      413|        27|Não temos informação|            3.9624|            1.2192|           15.8496|Type A - Stone Co...|  Quercus acutissima|        Sawtooth Oak|Não temos informação|Final Design|\n",
      "|POINT (-73.744975...|  103719|  1250D|CSO-PLANYC|  External|       ROW|South East Queens...|      ROWB|100% Design Accepted| 1054959.4| 195721.75| Queens|  Combined|JAM-005|Jamaica Bay and T...|3.9485346621747E9|      413|        27|Não temos informação|            3.9624|            1.2192|           15.8496|Type A - Stone Co...|  Quercus acutissima|        Sawtooth Oak|Não temos informação|Final Design|\n",
      "|POINT (-73.742553...|  103722|  1257A|CSO-PLANYC|  External|       ROW|South East Queens...|      ROWB|100% Design Accepted| 1055631.4| 195583.72| Queens|  Combined|JAM-005|Jamaica Bay and T...|3.9497836009957E9|      413|        27|Não temos informação|            5.7912|            1.2192|           23.1648| Type C - SW Chamber|             No Tree|                 N/A|Não temos informação|Final Design|\n",
      "|POINT (-73.741919...|  103880|1044-1A|CSO-PLANYC|  External|       ROW|South East Queens...|      ROWB|100% Design Accepted| 1055807.5| 195467.64| Queens|  Combined|JAM-005|Jamaica Bay and T...|3.9497548309128E9|      413|        27|Não temos informação|             3.048|1.3716000000000002|13.716000000000001|            Standard|             No Tree|                 N/A|Não temos informação|Final Design|\n",
      "|POINT (-73.741811...|  103881|1044-1B|CSO-PLANYC|  External|       ROW|South East Queens...|     ROWGS|100% Design Accepted| 1055837.4| 195561.12| Queens|  Combined|JAM-005|Jamaica Bay and T...|3.9497548261093E9|      413|        27|Não temos informação|            3.9624|            1.0668|13.868400000000001|Não temos informação|             No Tree|                 N/A|Não temos informação|Final Design|\n",
      "|POINT (-73.741790...|  103882|1044-1C|CSO-PLANYC|  External|       ROW|South East Queens...|     ROWGS|100% Design Accepted| 1055843.0| 195578.22| Queens|  Combined|JAM-005|Jamaica Bay and T...|3.9497548261093E9|      413|        27|Não temos informação|            3.9624|            1.0668|13.868400000000001|Não temos informação|             No Tree|                 N/A|Não temos informação|Final Design|\n",
      "+--------------------+--------+-------+----------+----------+----------+--------------------+----------+--------------------+----------+----------+-------+----------+-------+--------------------+-----------------+---------+----------+--------------------+------------------+------------------+------------------+--------------------+--------------------+--------------------+--------------------+------------+\n",
      "only showing top 20 rows\n",
      "\n"
     ]
    }
   ],
   "source": [
    "#Verificar se a tabela foi carregada corretamente\n",
    "spark.sql(\n",
    "    \"\"\"\n",
    "    SELECT *\n",
    "    FROM AreasVerdes.edificiosverdes_Table\n",
    "    \"\"\"\n",
    ").show()"
   ]
  },
  {
   "cell_type": "code",
   "execution_count": 5,
   "id": "listed-seafood",
   "metadata": {},
   "outputs": [],
   "source": [
    "spark.stop()"
   ]
  },
  {
   "cell_type": "code",
   "execution_count": null,
   "id": "79d36e0f-3a69-458b-8758-4fbf7c2e424d",
   "metadata": {},
   "outputs": [],
   "source": []
  }
 ],
 "metadata": {
  "kernelspec": {
   "display_name": "Python 3 (ipykernel)",
   "language": "python",
   "name": "python3"
  },
  "language_info": {
   "codemirror_mode": {
    "name": "ipython",
    "version": 3
   },
   "file_extension": ".py",
   "mimetype": "text/x-python",
   "name": "python",
   "nbconvert_exporter": "python",
   "pygments_lexer": "ipython3",
   "version": "3.10.6"
  }
 },
 "nbformat": 4,
 "nbformat_minor": 5
}
