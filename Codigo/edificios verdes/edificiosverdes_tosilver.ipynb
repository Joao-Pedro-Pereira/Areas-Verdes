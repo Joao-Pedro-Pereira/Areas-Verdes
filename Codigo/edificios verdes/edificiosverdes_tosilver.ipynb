{
 "cells": [
  {
   "cell_type": "code",
   "execution_count": 1,
   "id": "palestinian-istanbul",
   "metadata": {},
   "outputs": [],
   "source": [
    "from pyspark.sql import SparkSession\n",
    "from pyspark.sql import Row\n",
    "from delta import *\n",
    "from os import PathLike\n",
    "from hdfs import InsecureClient\n",
    "from pyspark.sql.types import LongType, StringType, StructField, StructType, BooleanType, ArrayType, IntegerType, FloatType\n",
    "import requests\n",
    "\n",
    "# warehouse_location points to the default location for managed databases and tables\n",
    "warehouse_location = 'hdfs://hdfs-nn:9000/warehouse'\n",
    "\n",
    "builder = SparkSession \\\n",
    "    .builder \\\n",
    "    .master(\"local[2]\") \\\n",
    "    .appName(\"Python Spark DataFrames and SQL\") \\\n",
    "    .config(\"spark.sql.warehouse.dir\", warehouse_location) \\\n",
    "    .config(\"hive.metastore.uris\", \"thrift://hive-metastore:9083\") \\\n",
    "    .config(\"spark.sql.extensions\", \"io.delta.sql.DeltaSparkSessionExtension\") \\\n",
    "    .config(\"spark.sql.catalog.spark_catalog\", \"org.apache.spark.sql.delta.catalog.DeltaCatalog\") \\\n",
    "    .config(\"spark.jars.packages\", \"io.delta:delta-core_2.12:1.0.0\") \\\n",
    "    .enableHiveSupport() \\\n",
    "\n",
    "spark = configure_spark_with_delta_pip(builder).getOrCreate()"
   ]
  },
  {
   "cell_type": "code",
   "execution_count": 2,
   "id": "blocked-liability",
   "metadata": {},
   "outputs": [],
   "source": [
    "hdfs_path = \"hdfs://hdfs-nn:9000/AreasVerdes/bronze/edificiosVerdes_csv/edificiosVerdes.csv\""
   ]
  },
  {
   "cell_type": "code",
   "execution_count": 3,
   "id": "interracial-baker",
   "metadata": {},
   "outputs": [],
   "source": [
    "#Schema do dataset\n",
    "customSchema = StructType([\n",
    "    StructField(\"The_geom\", StringType(), True),        \n",
    "    StructField(\"Asset_Id\", IntegerType(), True),\n",
    "    StructField(\"GI_ID\", StringType(), True),\n",
    "    StructField(\"DEP_Contra\", StringType(), True),\n",
    "    StructField(\"DEP_Cont_1\", IntegerType(), True),\n",
    "    StructField(\"Project_Ty\", StringType(), True),\n",
    "    StructField(\"Row_Onsite\", StringType(), True),\n",
    "    StructField(\"Project_Na\", StringType(), True),\n",
    "    StructField(\"Asset_Type\", StringType(), True),\n",
    "    StructField(\"Status\", StringType(), True),\n",
    "    StructField(\"Asset_X_Co\", FloatType(), True),\n",
    "    StructField(\"Asset_Y_Co\", FloatType(), True),\n",
    "    StructField(\"Borough\", StringType(), True),\n",
    "    StructField(\"Sewer_Type\", StringType(), True),\n",
    "    StructField(\"Outfall\", StringType(), True),\n",
    "    StructField(\"Waterbody\", StringType(), True),\n",
    "    StructField(\"Street_Add\", StringType(), True),\n",
    "    StructField(\"Nearest_In\", StringType(), True),\n",
    "    StructField(\"BBL\", LongType(), True),\n",
    "    StructField(\"Secondary\", StringType(), True),\n",
    "    StructField(\"Community\", IntegerType(), True),\n",
    "    StructField(\"City_Counc\", IntegerType(), True),\n",
    "    StructField(\"Assembly_D\", StringType(), True),\n",
    "    StructField(\"Asset_leng\", FloatType(), True),\n",
    "    StructField(\"Asset_Widt\", FloatType(), True),\n",
    "    StructField(\"Asset_Area\", FloatType(), True),\n",
    "    StructField(\"GI_Feature\", StringType(), True),\n",
    "    StructField(\"Tree_Latin\", StringType(), True),\n",
    "    StructField(\"Tree_Commo\", StringType(), True),\n",
    "    StructField(\"Constructi\", StringType(), True),\n",
    "    StructField(\"Construc_1\", StringType(), True),\n",
    "    StructField(\"Status_Gro\", StringType(), True),\n",
    "])\n",
    "\n",
    "episodes = spark \\\n",
    "            .read\\\n",
    "            .option(\"delimiter\",\",\")\\\n",
    "            .option(\"header\",\"true\")\\\n",
    "            .schema(customSchema) \\\n",
    "            .csv(hdfs_path)"
   ]
  },
  {
   "cell_type": "code",
   "execution_count": 4,
   "id": "clear-display",
   "metadata": {},
   "outputs": [
    {
     "name": "stdout",
     "output_type": "stream",
     "text": [
      "root\n",
      " |-- The_geom: string (nullable = true)\n",
      " |-- Asset_Id: integer (nullable = true)\n",
      " |-- GI_ID: string (nullable = true)\n",
      " |-- DEP_Contra: string (nullable = true)\n",
      " |-- DEP_Cont_1: integer (nullable = true)\n",
      " |-- Project_Ty: string (nullable = true)\n",
      " |-- Row_Onsite: string (nullable = true)\n",
      " |-- Project_Na: string (nullable = true)\n",
      " |-- Asset_Type: string (nullable = true)\n",
      " |-- Status: string (nullable = true)\n",
      " |-- Asset_X_Co: float (nullable = true)\n",
      " |-- Asset_Y_Co: float (nullable = true)\n",
      " |-- Borough: string (nullable = true)\n",
      " |-- Sewer_Type: string (nullable = true)\n",
      " |-- Outfall: string (nullable = true)\n",
      " |-- Waterbody: string (nullable = true)\n",
      " |-- Street_Add: string (nullable = true)\n",
      " |-- Nearest_In: string (nullable = true)\n",
      " |-- BBL: long (nullable = true)\n",
      " |-- Secondary: string (nullable = true)\n",
      " |-- Community: integer (nullable = true)\n",
      " |-- City_Counc: integer (nullable = true)\n",
      " |-- Assembly_D: string (nullable = true)\n",
      " |-- Asset_leng: float (nullable = true)\n",
      " |-- Asset_Widt: float (nullable = true)\n",
      " |-- Asset_Area: float (nullable = true)\n",
      " |-- GI_Feature: string (nullable = true)\n",
      " |-- Tree_Latin: string (nullable = true)\n",
      " |-- Tree_Commo: string (nullable = true)\n",
      " |-- Constructi: string (nullable = true)\n",
      " |-- Construc_1: string (nullable = true)\n",
      " |-- Status_Gro: string (nullable = true)\n",
      "\n",
      "+--------------------+--------+-------+----------+----------+----------+----------+--------------------+----------+--------------------+----------+----------+-------+----------+-------+--------------------+--------------------+--------------------+----------+----------+---------+----------+----------+----------+----------+----------+--------------------+--------------------+--------------------+----------+----------+------------+\n",
      "|            The_geom|Asset_Id|  GI_ID|DEP_Contra|DEP_Cont_1|Project_Ty|Row_Onsite|          Project_Na|Asset_Type|              Status|Asset_X_Co|Asset_Y_Co|Borough|Sewer_Type|Outfall|           Waterbody|          Street_Add|          Nearest_In|       BBL| Secondary|Community|City_Counc|Assembly_D|Asset_leng|Asset_Widt|Asset_Area|          GI_Feature|          Tree_Latin|          Tree_Commo|Constructi|Construc_1|  Status_Gro|\n",
      "+--------------------+--------+-------+----------+----------+----------+----------+--------------------+----------+--------------------+----------+----------+-------+----------+-------+--------------------+--------------------+--------------------+----------+----------+---------+----------+----------+----------+----------+----------+--------------------+--------------------+--------------------+----------+----------+------------+\n",
      "|POINT (-73.742758...|  103565|  1032A|CSO-PLANYC|         1|  External|       ROW|South East Queens...|      ROWB|100% Design Accepted| 1055577.0| 194796.23| Queens|  Combined|JAM-005|Jamaica Bay and T...|212-11 Nashville ...|115th Ave & Nashv...|4110300095|      null|      413|        27| Not Found|      10.0|       4.0|      40.0|            Standard|             No Tree|                 N/A|      null|      null|Final Design|\n",
      "|POINT (-73.742740...|  103566|  1032B|CSO-PLANYC|         1|  External|       ROW|South East Queens...|      ROWB|100% Design Accepted| 1055581.9|  194810.4| Queens|  Combined|JAM-005|Jamaica Bay and T...|                null|                null|4110300095|      null|      413|        27| Not Found|      10.0|       4.0|      40.0|            Standard|      Quercus prinus|        Chestnut Oak|      null|      null|Final Design|\n",
      "|POINT (-73.742672...|  103567|  1032C|CSO-PLANYC|         1|  External|       ROW|South East Queens...|      ROWB|100% Design Accepted| 1055600.6|  194864.7| Queens|  Combined|JAM-005|Jamaica Bay and T...|212-11 Nashville ...|212th St & Nashvi...|4110300095|      null|      413|        27| Not Found|      13.0|       4.0|      52.0|            Standard|             No Tree|                 N/A|      null|      null|Final Design|\n",
      "|POINT (-73.742650...|  103568|  1032D|CSO-PLANYC|         1|  External|       ROW|South East Queens...|      ROWB|100% Design Accepted| 1055606.5| 194881.72| Queens|  Combined|JAM-005|Jamaica Bay and T...|                null|                null|4110300095|      null|      413|        27| Not Found|      13.0|       4.0|      52.0|            Standard|      Quercus prinus|        Chestnut Oak|      null|      null|Final Design|\n",
      "|POINT (-73.743814...|  103569|  1034A|CSO-PLANYC|         1|  External|       ROW|South East Queens...|     ROWGS|100% Design Accepted| 1055282.2| 195391.83| Queens|  Combined|JAM-005|Jamaica Bay and T...|                null|                null|4110300071|      null|      413|        27| Not Found|      13.0|       3.5|      45.5|                null|             No Tree|                 N/A|      null|      null|Final Design|\n",
      "|POINT (-73.743065...|  103573|  1040C|CSO-PLANYC|         1|  External|       ROW|South East Queens...|     ROWGS|100% Design Accepted| 1055490.2|  195350.7| Queens|  Combined|JAM-005|Jamaica Bay and T...|  212-02 Murdock Ave|212th St & Colfax St|4111330079|      null|      413|        27| Not Found|      13.0|       3.5|      45.5|                null|             No Tree|                 N/A|      null|      null|Final Design|\n",
      "|POINT (-73.743295...|  103575|  1043A|CSO-PLANYC|         1|  External|       ROW|South East Queens...|      ROWB|100% Design Accepted| 1055426.2|  195379.0| Queens|  Combined|JAM-005|Jamaica Bay and T...|                null|                null|4111330125|      null|      413|        27| Not Found|      18.0|       4.0|      72.0|            Standard|Juniperus chinens...|     Chinese Juniper|      null|      null|Final Design|\n",
      "|POINT (-73.740890...|  103577|  1046A|CSO-PLANYC|         1|  External|       ROW|South East Queens...|      ROWB|100% Design Accepted| 1056092.2| 195656.28| Queens|  Combined|JAM-005|Jamaica Bay and T...|                null|                null|4111340036|      null|      413|        27| Not Found|      13.0|       4.5|      58.5|Type A - Stone Co...|             No Tree|                 N/A|      null|      null|Final Design|\n",
      "|POINT (-73.740955...|  103578|  1046B|CSO-PLANYC|         1|  External|       ROW|South East Queens...|      ROWB|100% Design Accepted| 1056074.4| 195657.67| Queens|  Combined|JAM-005|Jamaica Bay and T...|                null|                null|4111340036|      null|      413|        27| Not Found|      13.0|       4.5|      58.5|Type A - Stone Co...|     Zelkova serrata|    Japanese Zelkova|      null|      null|Final Design|\n",
      "|POINT (-73.745443...|  103713|  1249A|CSO-PLANYC|         1|  External|       ROW|South East Queens...|      ROWB|100% Design Accepted| 1054829.8| 195711.56| Queens|  Combined|JAM-005|Jamaica Bay and T...|                null|                null|4110060023|      null|      413|        27| Not Found|      13.0|       4.5|      58.5|            Standard|Tilia americana '...|Continental Appea...|      null|      null|Final Design|\n",
      "|POINT (-73.745422...|  103714|  1249B|CSO-PLANYC|         1|  External|       ROW|South East Queens...|      ROWB|100% Design Accepted| 1054835.6| 195694.55| Queens|  Combined|JAM-005|Jamaica Bay and T...|                null|                null|4110060022|      null|      413|        27| Not Found|      13.0|       4.5|      58.5|            Standard|Tilia americana '...|Continental Appea...|      null|      null|Final Design|\n",
      "|POINT (-73.745018...|  103715|  1249C|CSO-PLANYC|         1|  External|       ROW|South East Queens...|      ROWB|100% Design Accepted| 1054948.5| 195368.84| Queens|  Combined|JAM-005|Jamaica Bay and T...|     113-45 210th St|210th St & Murdoc...|4110060001|      null|      413|        27| Not Found|      11.0|       4.0|      44.0|            Standard|             No Tree|                 N/A|      null|      null|Final Design|\n",
      "|POINT (-73.744505...|  103716|  1250A|CSO-PLANYC|         1|  External|       ROW|South East Queens...|      ROWB|100% Design Accepted| 1055090.2|  195587.1| Queens|  Combined|JAM-005|Jamaica Bay and T...|                null|                null|4110060030|      null|      413|        27| Not Found|      13.0|       4.5|      58.5|            Standard|             No Tree|                 N/A|      null|      null|Final Design|\n",
      "|POINT (-73.744545...|  103717|  1250B|CSO-PLANYC|         1|  External|       ROW|South East Queens...|      ROWB|100% Design Accepted| 1055079.1|  195598.6| Queens|  Combined|JAM-005|Jamaica Bay and T...|                null|                null|4110060030|      null|      413|        27| Not Found|      11.0|       4.5|      49.5|            Standard|   Quercus palustris|             Pin Oak|      null|      null|Final Design|\n",
      "|POINT (-73.744815...|  103718|  1250C|CSO-PLANYC|         1|  External|       ROW|South East Queens...|      ROWB|100% Design Accepted| 1055004.1| 195675.39| Queens|  Combined|JAM-005|Jamaica Bay and T...|                null|                null|4110060028|      null|      413|        27| Not Found|      13.0|       4.0|      52.0|Type A - Stone Co...|  Quercus acutissima|        Sawtooth Oak|      null|      null|Final Design|\n",
      "|POINT (-73.744975...|  103719|  1250D|CSO-PLANYC|         1|  External|       ROW|South East Queens...|      ROWB|100% Design Accepted| 1054959.4| 195721.75| Queens|  Combined|JAM-005|Jamaica Bay and T...|                null|                null|4110060021|      null|      413|        27| Not Found|      13.0|       4.0|      52.0|Type A - Stone Co...|  Quercus acutissima|        Sawtooth Oak|      null|      null|Final Design|\n",
      "|POINT (-73.742553...|  103722|  1257A|CSO-PLANYC|         1|  External|       ROW|South East Queens...|      ROWB|100% Design Accepted| 1055631.4| 195583.72| Queens|  Combined|JAM-005|Jamaica Bay and T...|                null|                null|4111360051|      null|      413|        27| Not Found|      19.0|       4.0|      76.0| Type C - SW Chamber|             No Tree|                 N/A|      null|      null|Final Design|\n",
      "|POINT (-73.741919...|  103880|1044-1A|CSO-PLANYC|         1|  External|       ROW|South East Queens...|      ROWB|100% Design Accepted| 1055807.5| 195467.64| Queens|  Combined|JAM-005|Jamaica Bay and T...|                null|                null|4111330104|4111330099|      413|        27| Not Found|      10.0|       4.5|      45.0|            Standard|             No Tree|                 N/A|      null|      null|Final Design|\n",
      "|POINT (-73.741811...|  103881|1044-1B|CSO-PLANYC|         1|  External|       ROW|South East Queens...|     ROWGS|100% Design Accepted| 1055837.4| 195561.12| Queens|  Combined|JAM-005|Jamaica Bay and T...|213-21 Nashville ...|Murdock Ave & Nas...|4111330099|      null|      413|        27| Not Found|      13.0|       3.5|      45.5|                null|             No Tree|                 N/A|      null|      null|Final Design|\n",
      "|POINT (-73.741790...|  103882|1044-1C|CSO-PLANYC|         1|  External|       ROW|South East Queens...|     ROWGS|100% Design Accepted| 1055843.0| 195578.22| Queens|  Combined|JAM-005|Jamaica Bay and T...|213-83 Nashville ...|Murdock Ave & Nas...|4111330099|      null|      413|        27| Not Found|      13.0|       3.5|      45.5|                null|             No Tree|                 N/A|      null|      null|Final Design|\n",
      "+--------------------+--------+-------+----------+----------+----------+----------+--------------------+----------+--------------------+----------+----------+-------+----------+-------+--------------------+--------------------+--------------------+----------+----------+---------+----------+----------+----------+----------+----------+--------------------+--------------------+--------------------+----------+----------+------------+\n",
      "only showing top 20 rows\n",
      "\n"
     ]
    }
   ],
   "source": [
    "episodes.printSchema()\n",
    "episodes.show()\n",
    "#episodes.toPandas()"
   ]
  },
  {
   "cell_type": "code",
   "execution_count": 5,
   "id": "bc19c730-e87a-41d9-9267-8c94f4537850",
   "metadata": {},
   "outputs": [],
   "source": [
    "# Escolho as colunas que quero guardar \n",
    "edificiosverdes = episodes.select(\"The_geom\",\"GI_ID\",\"DEP_Contra\",\"Project_Ty\",\"Row_Onsite\",\"Project_Na\",\"Asset_Type\",\"Status\",\"Borough\",\"Sewer_Type\",\"Outfall\",\"Waterbody\",\"Street_Add\",\"Tree_Latin\",\"Assembly_D\",\"GI_Feature\",\"Tree_Commo\",\"Constructi\",\"Status_Gro\",\"Asset_Id\",\"Community\",\"City_Counc\",\"Asset_X_Co\",\"Asset_Y_Co\",\"Asset_leng\",\"Asset_Widt\",\"Asset_Area\",\"BBL\")"
   ]
  },
  {
   "cell_type": "code",
   "execution_count": 6,
   "id": "102f67d8-e6f2-47cb-88fd-76d1d2442056",
   "metadata": {},
   "outputs": [],
   "source": [
    "#Altero os Not Found por Não temos essa informação na coluna Assembly_D\n",
    "from pyspark.sql.functions import when\n",
    "edificiosverdes = edificiosverdes.withColumn(\"Assembly_D\", when(edificiosverdes.Assembly_D == \"Not Found\",\"Não temos informação\") \\\n",
    "      .otherwise(edificiosverdes.Assembly_D))\n",
    "edificiosverdes = edificiosverdes.na.fill(\"Não temos informação\",[\"Assembly_D\"])"
   ]
  },
  {
   "cell_type": "code",
   "execution_count": 7,
   "id": "ce7e7570-05f5-463c-884e-f1602efc2e06",
   "metadata": {},
   "outputs": [],
   "source": [
    "#Altero os brancos por Não temos essa informação na coluna GI_Feature\n",
    "from pyspark.sql.functions import when\n",
    "edificiosverdes = edificiosverdes.withColumn(\"GI_Feature\", when(edificiosverdes.GI_Feature == \"\",\"Não temos informação\") \\\n",
    "      .otherwise(edificiosverdes.GI_Feature))\n",
    "edificiosverdes = edificiosverdes.na.fill(\"Não temos informação\",[\"GI_Feature\"])"
   ]
  },
  {
   "cell_type": "code",
   "execution_count": 8,
   "id": "49db2f37-c6d6-4ac8-9d61-8d90a9ce1447",
   "metadata": {},
   "outputs": [],
   "source": [
    "#Altero os brancos por Não temos essa informação na coluna Tree_Latin\n",
    "from pyspark.sql.functions import when\n",
    "edificiosverdes = edificiosverdes.withColumn(\"Tree_Latin\", when(edificiosverdes.Tree_Latin == \"\",\"Não temos informação\") \\\n",
    "      .otherwise(edificiosverdes.Tree_Latin))\n",
    "edificiosverdes = edificiosverdes.na.fill(\"Não temos informação\",[\"Tree_Latin\"])"
   ]
  },
  {
   "cell_type": "code",
   "execution_count": 9,
   "id": "1ef818ea-cc41-46d0-9861-e1cdec7f9203",
   "metadata": {},
   "outputs": [],
   "source": [
    "#Altero os brancos por Não temos essa informação na coluna Tree_Commo\n",
    "from pyspark.sql.functions import when\n",
    "edificiosverdes = edificiosverdes.withColumn(\"Tree_Commo\", when(edificiosverdes.Tree_Commo == \"\",\"Não temos informação\") \\\n",
    "      .otherwise(edificiosverdes.Tree_Commo))\n",
    "edificiosverdes = edificiosverdes.na.fill(\"Não temos informação\",[\"Tree_Commo\"])"
   ]
  },
  {
   "cell_type": "code",
   "execution_count": 10,
   "id": "968100aa-4af2-4103-8323-ad5d4293eb0d",
   "metadata": {},
   "outputs": [],
   "source": [
    "#Altero os brancos por Não temos essa informação na coluna Constructi\n",
    "from pyspark.sql.functions import when\n",
    "edificiosverdes = edificiosverdes.withColumn(\"Constructi\", when(edificiosverdes.Constructi == \"\",\"Não temos informação\") \\\n",
    "      .otherwise(edificiosverdes.Constructi))\n",
    "edificiosverdes = edificiosverdes.na.fill(\"Não temos informação\",[\"Constructi\"])"
   ]
  },
  {
   "cell_type": "code",
   "execution_count": 11,
   "id": "ce9ee607-9a54-4778-a2c8-29446e7c22a7",
   "metadata": {
    "tags": []
   },
   "outputs": [],
   "source": [
    "#Altero os brancos por Não temos essa informação na coluna Status_Gro\n",
    "from pyspark.sql.functions import when\n",
    "edificiosverdes = edificiosverdes.withColumn(\"Status_Gro\", when(edificiosverdes.Status_Gro == \"\",\"Não temos informação\") \\\n",
    "      .otherwise(edificiosverdes.Status_Gro))\n",
    "edificiosverdes = edificiosverdes.na.fill(\"Não temos informação\",[\"Status_Gro\"])"
   ]
  },
  {
   "cell_type": "code",
   "execution_count": 12,
   "id": "b618f438-fb3b-4c77-b1cd-7b93c5385715",
   "metadata": {},
   "outputs": [],
   "source": [
    "#Altero os brancos por Não temos essa informação na coluna Status_Gro\n",
    "from pyspark.sql.functions import when\n",
    "edificiosverdes = edificiosverdes.withColumn(\"Status_Gro\", when(edificiosverdes.Tree_Commo == \"\",\"Não temos informação\") \\\n",
    "      .otherwise(edificiosverdes.Tree_Commo))\n",
    "edificiosverdes = edificiosverdes.na.fill(\"Não temos informação\",[\"Tree_Commo\"])"
   ]
  },
  {
   "cell_type": "code",
   "execution_count": 13,
   "id": "a56a8ee1-df5e-428b-9b4a-cc811ec1165d",
   "metadata": {},
   "outputs": [
    {
     "data": {
      "text/plain": [
       "{'USD': {'code': 'USD',\n",
       "  'codein': 'EUR',\n",
       "  'name': 'Dólar Americano/Euro',\n",
       "  'high': '0.9399',\n",
       "  'low': '0.9334',\n",
       "  'varBid': '-0.0033',\n",
       "  'pctChange': '-0.35',\n",
       "  'bid': '0.9344',\n",
       "  'ask': '0.9348',\n",
       "  'timestamp': '1672437593',\n",
       "  'create_date': '2022-12-30 18:59:53'}}"
      ]
     },
     "execution_count": 13,
     "metadata": {},
     "output_type": "execute_result"
    }
   ],
   "source": [
    "#Ir buscar o valor atual do euro em relação ao dolar através de uma API\n",
    "requisicao = requests.get('https://economia.awesomeapi.com.br/all/USD-EUR')\n",
    "\n",
    "cotacao = requisicao.json()\n",
    "#Verificar se consegui ir buscar o valores corretos\n",
    "cotacao"
   ]
  },
  {
   "cell_type": "code",
   "execution_count": 14,
   "id": "57d25dcf-68d2-43b4-982a-37c9a66d1df1",
   "metadata": {},
   "outputs": [],
   "source": [
    "#Conversão do valor em dolar para valor em euro utilizando uma API\n",
    "edificiosverdes=edificiosverdes.withColumn(\"BBL\", edificiosverdes.BBL * cotacao['USD']['bid'])"
   ]
  },
  {
   "cell_type": "code",
   "execution_count": 15,
   "id": "7c54b6ec-70b5-4884-8a84-4bc64f54a2a6",
   "metadata": {},
   "outputs": [
    {
     "name": "stdout",
     "output_type": "stream",
     "text": [
      "+--------------------+\n",
      "|                 BBL|\n",
      "+--------------------+\n",
      "|   3.7663889826688E9|\n",
      "|   2.8781295369344E9|\n",
      "|   2.8796713016064E9|\n",
      "|   3.7857776649344E9|\n",
      "|    2.847200905344E9|\n",
      "|2.8464347291136003E9|\n",
      "|3.7812084508032002E9|\n",
      "|   3.7834323274752E9|\n",
      "|   2.8213086729344E9|\n",
      "|   1.8966731622784E9|\n",
      "|   3.7511581739008E9|\n",
      "|   1.8988035849344E9|\n",
      "|   1.8907210510976E9|\n",
      "|   3.8459810774912E9|\n",
      "|   3.8264241284736E9|\n",
      "|   3.8223781129344E9|\n",
      "|   2.8415197739008E9|\n",
      "|   3.8402532064256E9|\n",
      "|   3.8219950388352E9|\n",
      "|     2.83837083936E9|\n",
      "+--------------------+\n",
      "only showing top 20 rows\n",
      "\n"
     ]
    }
   ],
   "source": [
    "#Teste da conversão\n",
    "edificiosverdes.createOrReplaceTempView(\"episodes\")\n",
    "\n",
    "sqlized_df = spark.sql(\n",
    "    \"\"\"\n",
    "    SELECT Distinct BBL\n",
    "    FROM episodes\n",
    "    \"\"\"\n",
    ")\n",
    "\n",
    "sqlized_df.show()"
   ]
  },
  {
   "cell_type": "code",
   "execution_count": 16,
   "id": "b5d1da1c-684e-40f8-9a64-e7de86dfb073",
   "metadata": {},
   "outputs": [],
   "source": [
    "#Conversão do valor em pés para valor em metros\n",
    "edificiosverdes=edificiosverdes.withColumn(\"Asset_leng\", edificiosverdes.Asset_leng * 0.3048)"
   ]
  },
  {
   "cell_type": "code",
   "execution_count": 17,
   "id": "0988d465-76fc-4b3c-a0b5-1ba8c1f0c241",
   "metadata": {},
   "outputs": [],
   "source": [
    "#Conversão do valor em pés para valor em metros\n",
    "edificiosverdes=edificiosverdes.withColumn(\"Asset_Widt\", edificiosverdes.Asset_Widt * 0.3048)"
   ]
  },
  {
   "cell_type": "code",
   "execution_count": 18,
   "id": "4f6a199a-cc78-446d-94c9-b6e2d56d2f99",
   "metadata": {},
   "outputs": [],
   "source": [
    "#Conversão do valor em pés para valor em metros\n",
    "edificiosverdes=edificiosverdes.withColumn(\"Asset_Area\", edificiosverdes.Asset_Area * 0.3048)"
   ]
  },
  {
   "cell_type": "code",
   "execution_count": 19,
   "id": "612e82fe-38de-4e01-98a8-196e98bf804e",
   "metadata": {},
   "outputs": [
    {
     "name": "stdout",
     "output_type": "stream",
     "text": [
      "root\n",
      " |-- The_geom: string (nullable = true)\n",
      " |-- GI_ID: string (nullable = true)\n",
      " |-- DEP_Contra: string (nullable = true)\n",
      " |-- Project_Ty: string (nullable = true)\n",
      " |-- Row_Onsite: string (nullable = true)\n",
      " |-- Project_Na: string (nullable = true)\n",
      " |-- Asset_Type: string (nullable = true)\n",
      " |-- Status: string (nullable = true)\n",
      " |-- Borough: string (nullable = true)\n",
      " |-- Sewer_Type: string (nullable = true)\n",
      " |-- Outfall: string (nullable = true)\n",
      " |-- Waterbody: string (nullable = true)\n",
      " |-- Street_Add: string (nullable = true)\n",
      " |-- Tree_Latin: string (nullable = false)\n",
      " |-- Assembly_D: string (nullable = false)\n",
      " |-- GI_Feature: string (nullable = false)\n",
      " |-- Tree_Commo: string (nullable = false)\n",
      " |-- Constructi: string (nullable = false)\n",
      " |-- Status_Gro: string (nullable = false)\n",
      " |-- Asset_Id: integer (nullable = true)\n",
      " |-- Community: integer (nullable = true)\n",
      " |-- City_Counc: integer (nullable = true)\n",
      " |-- Asset_X_Co: float (nullable = true)\n",
      " |-- Asset_Y_Co: float (nullable = true)\n",
      " |-- Asset_leng: double (nullable = true)\n",
      " |-- Asset_Widt: double (nullable = true)\n",
      " |-- Asset_Area: double (nullable = true)\n",
      " |-- BBL: double (nullable = true)\n",
      "\n"
     ]
    }
   ],
   "source": [
    "edificiosverdes.printSchema()\n"
   ]
  },
  {
   "cell_type": "code",
   "execution_count": 20,
   "id": "8653714c-e294-4699-b19e-e3f55ae7a40a",
   "metadata": {},
   "outputs": [],
   "source": [
    "#guardar\n",
    "edificiosverdes \\\n",
    "    .select(\"The_geom\",\"Asset_Id\",\"GI_ID\",\"DEP_ContrA\",\"Project_Ty\",\"Row_Onsite\",\"Project_Na\",\"Asset_Type\",\"Status\",\"Asset_X_Co\",\"Asset_Y_Co\",\"Borough\",\"Sewer_Type\",\"Outfall\",\"Waterbody\",\"BBL\",\"Community\",\"City_Counc\",\"Assembly_D\",\"Asset_leng\",\"Asset_Widt\",\"Asset_Area\",\"GI_Feature\",\"Tree_Latin\", \"Tree_Commo\", \"Constructi\", \"Status_Gro\") \\\n",
    "    .write \\\n",
    "    .mode(\"overwrite\") \\\n",
    "    .format(\"delta\") \\\n",
    "    .save(\"hdfs://hdfs-nn:9000/AreasVerdes/silver/edificiosverdes\")"
   ]
  },
  {
   "cell_type": "code",
   "execution_count": 21,
   "id": "37eb0aea-4cb6-4769-bedd-d100f91aeaf0",
   "metadata": {},
   "outputs": [
    {
     "name": "stdout",
     "output_type": "stream",
     "text": [
      "+-------+\n",
      "|  GI_ID|\n",
      "+-------+\n",
      "|  1032A|\n",
      "|  1032B|\n",
      "|  1032C|\n",
      "|  1032D|\n",
      "|  1034A|\n",
      "|  1040C|\n",
      "|  1043A|\n",
      "|  1046A|\n",
      "|  1046B|\n",
      "|  1249A|\n",
      "|  1249B|\n",
      "|  1249C|\n",
      "|  1250A|\n",
      "|  1250B|\n",
      "|  1250C|\n",
      "|  1250D|\n",
      "|  1257A|\n",
      "|1044-1A|\n",
      "|1044-1B|\n",
      "|1044-1C|\n",
      "+-------+\n",
      "only showing top 20 rows\n",
      "\n"
     ]
    }
   ],
   "source": [
    "#Testar se guardou\n",
    "spark.sql(\n",
    "    \"\"\"\n",
    "    SELECT GI_ID\n",
    "    FROM AreasVerdes.edificiosverdes_table\n",
    "    \"\"\"\n",
    ").show()"
   ]
  },
  {
   "cell_type": "code",
   "execution_count": 22,
   "id": "3d774994-37a8-4df7-98fc-efbff26c7865",
   "metadata": {},
   "outputs": [],
   "source": [
    "spark.stop()"
   ]
  },
  {
   "cell_type": "code",
   "execution_count": null,
   "id": "e1f572a7-e30c-4f50-8e4e-d2766239f2de",
   "metadata": {},
   "outputs": [],
   "source": []
  }
 ],
 "metadata": {
  "kernelspec": {
   "display_name": "Python 3 (ipykernel)",
   "language": "python",
   "name": "python3"
  },
  "language_info": {
   "codemirror_mode": {
    "name": "ipython",
    "version": 3
   },
   "file_extension": ".py",
   "mimetype": "text/x-python",
   "name": "python",
   "nbconvert_exporter": "python",
   "pygments_lexer": "ipython3",
   "version": "3.10.6"
  }
 },
 "nbformat": 4,
 "nbformat_minor": 5
}
