{
 "cells": [
  {
   "cell_type": "code",
   "execution_count": null,
   "id": "0510cae7-c03e-4cf5-8579-0ffc9bfaf7fc",
   "metadata": {},
   "outputs": [],
   "source": [
    "from pyspark.sql import SparkSession\n",
    "from pyspark.sql import Row\n",
    "from delta import *\n",
    "from os import PathLike\n",
    "from hdfs import InsecureClient\n",
    "from pyspark.sql.types import LongType, StringType, StructField, StructType, BooleanType, ArrayType, IntegerType, FloatType\n",
    "from pyspark.sql.functions import when, col, concat, lit, substring, avg, sum, count, countDistinct, split\n",
    "\n",
    "# warehouse_location points to the default location for managed databases and tables\n",
    "warehouse_location = 'hdfs://hdfs-nn:9000/AreasVerdes/warehouse'\n",
    "\n",
    "builder = SparkSession \\\n",
    "    .builder \\\n",
    "    .master(\"local[2]\") \\\n",
    "    .appName(\"Python Spark DataFrames and SQL\") \\\n",
    "    .config(\"spark.sql.warehouse.dir\", warehouse_location) \\\n",
    "    .config(\"hive.metastore.uris\", \"thrift://hive-metastore:9083\") \\\n",
    "    .config(\"spark.sql.extensions\", \"io.delta.sql.DeltaSparkSessionExtension\") \\\n",
    "    .config(\"spark.sql.catalog.spark_catalog\", \"org.apache.spark.sql.delta.catalog.DeltaCatalog\") \\\n",
    "    .config(\"spark.jars.packages\", \"io.delta:delta-core_2.12:1.0.0\") \\\n",
    "    .enableHiveSupport() \\\n",
    "\n",
    "spark = configure_spark_with_delta_pip(builder).getOrCreate()"
   ]
  },
  {
   "cell_type": "code",
   "execution_count": null,
   "id": "87b10219-c3dd-4ef6-a459-c02a10210004",
   "metadata": {},
   "outputs": [],
   "source": [
    "gs_gold = spark.table(\"AreasVerdes.GreenStreets\")"
   ]
  },
  {
   "cell_type": "code",
   "execution_count": null,
   "id": "c3df92d4-0c07-49b5-8644-d94cc01f7d26",
   "metadata": {},
   "outputs": [],
   "source": [
    "# Bairro com maior densidade de GreenStreets \n",
    "gs_dens_bairro = gs_gold \\\n",
    "\n",
    "#Converter para float\n",
    "gs_dens_bairro = gs_dens_bairro.withColumn(\"hectares\",col(\"hectares\").cast(FloatType()))\n",
    "\n",
    "#Criar mova coluna que assossia a cada rua a sua respetiva densidade, calculada pela area que ocupa e a area do bairro em que esta\n",
    "gs_dens_bairro_final = gs_dens_bairro.withColumn(\"Hectares_por_km2\", when(gs_dens_bairro.Borough == \"Q\", gs_dens_bairro.hectares/281.5) \\\n",
    "        .when(gs_dens_bairro.Borough == \"B\", gs_dens_bairro.hectares/179.7) \n",
    "        .when(gs_dens_bairro.Borough == \"R\", gs_dens_bairro.hectares/148.9)  \n",
    "        .when(gs_dens_bairro.Borough == \"M\", gs_dens_bairro.hectares/58.8)  \n",
    "        .when(gs_dens_bairro.Borough == \"X\", gs_dens_bairro.hectares/109.3)  \n",
    "        )\n",
    "\n",
    "#Filtrar linhas cujos os dados nao sao atualizados\n",
    "gs_dens_bairro_final = gs_dens_bairro_final.filter(col('FeatureStatus') == ('Active'))\n",
    "\n",
    "#Converter colunas para strings para mais facil analise no Tableau\n",
    "gs_dens_bairro_final = gs_dens_bairro_final.withColumn(\"CommunityBoard\",col(\"CommunityBoard\").cast(StringType()))\n",
    "gs_dens_bairro_final = gs_dens_bairro_final.withColumn(\"Precinct\",col(\"Precinct\").cast(StringType()))\n",
    "gs_dens_bairro_final = gs_dens_bairro_final.withColumn(\"ZipCode\",col(\"ZipCode\").cast(StringType()))\n",
    "\n"
   ]
  },
  {
   "cell_type": "code",
   "execution_count": null,
   "id": "5d1a3edd-c809-4b2b-9198-028094ea093e",
   "metadata": {},
   "outputs": [],
   "source": [
    "#Guardar colunas pretendidas a analizar na tabela gold \n",
    "gs_dens_bairro_final \\\n",
    "    .select(\"Hectares\",\"CommunityBoard\",\"Precinct\",\"ZipCode\",\"Borough\",\"Hectares_por_km2\" ) \\\n",
    "    .write \\\n",
    "    .mode(\"overwrite\") \\\n",
    "    .format(\"delta\") \\\n",
    "    .save(\"hdfs://hdfs-nn:9000/AreasVerdes/Gold/gs_gold\")"
   ]
  },
  {
   "cell_type": "code",
   "execution_count": null,
   "id": "e34140b0-06ec-4683-8582-5a111b135ad2",
   "metadata": {},
   "outputs": [],
   "source": [
    "spark.stop()"
   ]
  },
  {
   "cell_type": "code",
   "execution_count": null,
   "id": "2ff13f28-723c-4744-b29b-b5f5abbb9de1",
   "metadata": {},
   "outputs": [],
   "source": []
  }
 ],
 "metadata": {
  "kernelspec": {
   "display_name": "Python 3 (ipykernel)",
   "language": "python",
   "name": "python3"
  },
  "language_info": {
   "codemirror_mode": {
    "name": "ipython",
    "version": 3
   },
   "file_extension": ".py",
   "mimetype": "text/x-python",
   "name": "python",
   "nbconvert_exporter": "python",
   "pygments_lexer": "ipython3",
   "version": "3.10.6"
  }
 },
 "nbformat": 4,
 "nbformat_minor": 5
}
