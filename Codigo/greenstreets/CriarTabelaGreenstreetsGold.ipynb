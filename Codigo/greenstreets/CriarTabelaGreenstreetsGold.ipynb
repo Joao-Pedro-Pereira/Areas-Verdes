{
 "cells": [
  {
   "cell_type": "code",
   "execution_count": 4,
   "id": "d894832a-26ac-4da2-8088-7cfe67f081a6",
   "metadata": {},
   "outputs": [],
   "source": [
    "from pyspark.sql import SparkSession\n",
    "from pyspark.sql import Row\n",
    "from delta import *\n",
    "\n",
    "# warehouse_location points to the default location for managed databases and tables\n",
    "warehouse_location = 'hdfs://hdfs-nn:9000/AreasVerdes/warehouse'\n",
    "\n",
    "builder = SparkSession \\\n",
    "    .builder \\\n",
    "    .appName(\"Python Spark SQL Hive integration example\") \\\n",
    "    .config(\"spark.sql.warehouse.dir\", warehouse_location) \\\n",
    "    .config(\"hive.metastore.uris\", \"thrift://hive-metastore:9083\") \\\n",
    "    .config(\"spark.sql.extensions\", \"io.delta.sql.DeltaSparkSessionExtension\") \\\n",
    "    .config(\"spark.sql.catalog.spark_catalog\", \"org.apache.spark.sql.delta.catalog.DeltaCatalog\") \\\n",
    "    .config(\"spark.jars.packages\", \"io.delta:delta-core_2.12:1.0.0\") \\\n",
    "    .enableHiveSupport() \\\n",
    "\n",
    "spark = spark = configure_spark_with_delta_pip(builder).getOrCreate()"
   ]
  },
  {
   "cell_type": "code",
   "execution_count": 6,
   "id": "0b417a85-eb70-4f60-9eca-cc2eda735bcb",
   "metadata": {},
   "outputs": [
    {
     "data": {
      "text/plain": [
       "DataFrame[]"
      ]
     },
     "execution_count": 6,
     "metadata": {},
     "output_type": "execute_result"
    }
   ],
   "source": [
    "# cria a tabela gold com as colunas pretendidas para as questoes analiticas e KPIs\n",
    "spark.sql(\n",
    "    \"\"\"\n",
    "    DROP TABLE IF EXISTS AreasVerdes.gs_gold\n",
    "    \"\"\"\n",
    ")\n",
    "\n",
    "spark.sql(\n",
    "    \"\"\"\n",
    "    CREATE EXTERNAL TABLE AreasVerdes.gs_gold (\n",
    "      Hectares FLOAT,\n",
    "      CommunityBoard STRING,\n",
    "      Precinct STRING,\n",
    "      ZipCode STRING,\n",
    "      Borough STRING,\n",
    "      Hectares_por_km2 DOUBLE\n",
    " \n",
    "    )\n",
    "    USING DELTA\n",
    "    LOCATION 'hdfs://hdfs-nn:9000/AreasVerdes/Gold/gs_gold'\n",
    "    \"\"\"\n",
    ")"
   ]
  },
  {
   "cell_type": "code",
   "execution_count": 7,
   "id": "47eaa340-a932-43cd-83d7-4f63d75933f0",
   "metadata": {},
   "outputs": [],
   "source": [
    "spark.stop()"
   ]
  },
  {
   "cell_type": "code",
   "execution_count": null,
   "id": "02e65882-d6b9-4b2d-b999-8e64ca2276d0",
   "metadata": {},
   "outputs": [],
   "source": []
  }
 ],
 "metadata": {
  "kernelspec": {
   "display_name": "Python 3 (ipykernel)",
   "language": "python",
   "name": "python3"
  },
  "language_info": {
   "codemirror_mode": {
    "name": "ipython",
    "version": 3
   },
   "file_extension": ".py",
   "mimetype": "text/x-python",
   "name": "python",
   "nbconvert_exporter": "python",
   "pygments_lexer": "ipython3",
   "version": "3.10.6"
  }
 },
 "nbformat": 4,
 "nbformat_minor": 5
}
