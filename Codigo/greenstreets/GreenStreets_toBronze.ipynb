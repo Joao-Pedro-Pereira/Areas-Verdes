{
 "cells": [
  {
   "cell_type": "code",
   "execution_count": 2,
   "id": "bbdd8605-f119-4a73-b538-69f75fa2b4f2",
   "metadata": {},
   "outputs": [
    {
     "data": {
      "text/plain": [
       "'/AreasVerdes/Bronze/GreenStreets.csv'"
      ]
     },
     "execution_count": 2,
     "metadata": {},
     "output_type": "execute_result"
    }
   ],
   "source": [
    "from os import PathLike\n",
    "from hdfs import InsecureClient\n",
    "client=InsecureClient(\"http://hdfs-nn:9870\",user=\"anonymous\")\n",
    "\n",
    "from_path= \"./Greenstreets.csv\"\n",
    "to_path=\"/AreasVerdes/Bronze/GreenStreets.csv\"\n",
    "\n",
    "client.delete(to_path)\n",
    "client.upload(to_path,from_path)"
   ]
  },
  {
   "cell_type": "code",
   "execution_count": null,
   "id": "d8de43db-33f7-43f4-ae6d-917c893cd9b0",
   "metadata": {},
   "outputs": [],
   "source": []
  }
 ],
 "metadata": {
  "kernelspec": {
   "display_name": "Python 3 (ipykernel)",
   "language": "python",
   "name": "python3"
  },
  "language_info": {
   "codemirror_mode": {
    "name": "ipython",
    "version": 3
   },
   "file_extension": ".py",
   "mimetype": "text/x-python",
   "name": "python",
   "nbconvert_exporter": "python",
   "pygments_lexer": "ipython3",
   "version": "3.10.6"
  }
 },
 "nbformat": 4,
 "nbformat_minor": 5
}
