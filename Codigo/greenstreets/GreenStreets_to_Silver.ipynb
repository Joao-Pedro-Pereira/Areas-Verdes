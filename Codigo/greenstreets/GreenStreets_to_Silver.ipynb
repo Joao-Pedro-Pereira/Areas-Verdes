{
 "cells": [
  {
   "cell_type": "code",
   "execution_count": 1,
   "id": "palestinian-istanbul",
   "metadata": {},
   "outputs": [],
   "source": [
    "from pyspark.sql import SparkSession\n",
    "from pyspark.sql import Row\n",
    "from delta import *\n",
    "from os import PathLike\n",
    "from hdfs import InsecureClient\n",
    "from pyspark.sql.types import LongType, StringType, StructField, StructType, BooleanType, ArrayType, IntegerType, FloatType\n",
    "from pyspark.sql.functions import when, col, concat, lit\n",
    "\n",
    "# warehouse_location points to the default location for managed databases and tables\n",
    "warehouse_location = 'hdfs://hdfs-nn:9000/AreasVerdes/warehouse'\n",
    "\n",
    "builder = SparkSession \\\n",
    "    .builder \\\n",
    "    .master(\"local[2]\") \\\n",
    "    .appName(\"Python Spark DataFrames and SQL\") \\\n",
    "    .config(\"spark.sql.warehouse.dir\", warehouse_location) \\\n",
    "    .config(\"hive.metastore.uris\", \"thrift://hive-metastore:9083\") \\\n",
    "    .config(\"spark.sql.extensions\", \"io.delta.sql.DeltaSparkSessionExtension\") \\\n",
    "    .config(\"spark.sql.catalog.spark_catalog\", \"org.apache.spark.sql.delta.catalog.DeltaCatalog\") \\\n",
    "    .config(\"spark.jars.packages\", \"io.delta:delta-core_2.12:1.0.0\") \\\n",
    "    .enableHiveSupport() \\\n",
    "\n",
    "spark = configure_spark_with_delta_pip(builder).getOrCreate()"
   ]
  },
  {
   "cell_type": "code",
   "execution_count": 2,
   "id": "blocked-liability",
   "metadata": {},
   "outputs": [],
   "source": [
    "hdfs_path = \"hdfs://hdfs-nn:9000/AreasVerdes/Bronze/GreenStreets.csv\""
   ]
  },
  {
   "cell_type": "code",
   "execution_count": 3,
   "id": "interracial-baker",
   "metadata": {},
   "outputs": [],
   "source": [
    "#definir o schema\n",
    "customSchema = StructType([\n",
    "    StructField(\"Hectares\", FloatType(), True),\n",
    "    StructField(\"Borough\", StringType(), True),\n",
    "    StructField(\"Commissiondate\", StringType(), True),\n",
    "    StructField(\"CommunityBoard\", IntegerType(), True),\n",
    "    StructField(\"Council_District\", IntegerType(), True),\n",
    "    StructField(\"Department\", StringType(), True),\n",
    "    StructField(\"Description\", StringType(), True),\n",
    "    StructField(\"FeatureStatus\", StringType(), True),\n",
    "    StructField(\"Gispropnum\", StringType(), True),\n",
    "    StructField(\"GSGroup\", StringType(), True),\n",
    "    StructField(\"GSType\", StringType(), True),\n",
    "    StructField(\"Location\", StringType(), True),\n",
    "    StructField(\"MOU\", StringType(), True),\n",
    "    StructField(\"NYS_Assembly\", StringType(), True),\n",
    "    StructField(\"NYS_Senate\", IntegerType(), True),\n",
    "    StructField(\"Omppropid\", StringType(), True),\n",
    "    StructField(\"Parent_ID\", StringType(), True),\n",
    "    StructField(\"Precinct\", IntegerType(), True),\n",
    "    StructField(\"Sitename\", StringType(), True),\n",
    "    StructField(\"STArea\", FloatType(), True),\n",
    "    StructField(\"STLenght\", FloatType(), True),\n",
    "    StructField(\"SubCategory\", StringType(), True),\n",
    "    StructField(\"System\", StringType(), True),        \n",
    "    StructField(\"US_Congress\", IntegerType(), True), \n",
    "    StructField(\"ZipCode\", IntegerType(), True),\n",
    "    StructField(\"Multypolygon\", StringType(), True)\n",
    "])\n",
    "\n",
    "input = spark \\\n",
    "            .read\\\n",
    "            .option(\"delimiter\",\";\")\\\n",
    "            .option(\"header\",\"true\")\\\n",
    "            .schema(customSchema) \\\n",
    "            .csv(hdfs_path)"
   ]
  },
  {
   "cell_type": "code",
   "execution_count": 4,
   "id": "898a623e",
   "metadata": {},
   "outputs": [],
   "source": [
    "# Escolher colunas pretendidas\n",
    "gs = input.select(\"System\", \"Gispropnum\",\"Omppropid\",\"Department\",\"Parent_ID\",\"Location\",\"Hectares\",\"GSType\",\"SubCategory\",\"CommunityBoard\",\"Precinct\",\"ZipCode\",\"FeatureStatus\",\"STArea\",\"STLenght\",\"Multypolygon\",\"Borough\")"
   ]
  },
  {
   "cell_type": "code",
   "execution_count": 5,
   "id": "5075b42e-27ea-46eb-9350-280ecdbde97c",
   "metadata": {},
   "outputs": [],
   "source": [
    "#Remover duplicados de gispropnum\n",
    "gs = gs.dropDuplicates([\"Gispropnum\"])"
   ]
  },
  {
   "cell_type": "code",
   "execution_count": 6,
   "id": "45abd1e5-8343-46a8-a521-2d7dcbdefd95",
   "metadata": {},
   "outputs": [],
   "source": [
    "#GSType remover null/\"\"/None\n",
    "gs = gs.withColumn(\"GSType\", when(gs.GSType == \"\",\"Sem info\") \\\n",
    "      .when(gs.GSType == None,\"Sem info\") \\\n",
    "      .otherwise(gs.GSType))\n",
    "gs = gs.na.fill(\"Sem info\",[\"GSType\"])"
   ]
  },
  {
   "cell_type": "code",
   "execution_count": 7,
   "id": "c6366df1-f094-4fb7-8156-d1cd9493e998",
   "metadata": {},
   "outputs": [],
   "source": [
    "#Community_Board  remover null/\"\"/None\n",
    "gs = gs.withColumn(\"CommunityBoard\", when(gs.GSType == \"\",0) \\\n",
    "      .when(gs.CommunityBoard == None,0) \\\n",
    "      .otherwise(gs.CommunityBoard))\n",
    "gs = gs.na.fill(0,[\"CommunityBoard\"])"
   ]
  },
  {
   "cell_type": "code",
   "execution_count": 8,
   "id": "c2336d5c-260e-4749-9793-a4b0091e10cf",
   "metadata": {},
   "outputs": [],
   "source": [
    "#ZipCode remover null/\"\"/None\n",
    "gs = gs.withColumn(\"ZipCode\", when(gs.ZipCode == \"\",0) \\\n",
    "      .when(gs.CommunityBoard == None,0) \\\n",
    "      .otherwise(gs.CommunityBoard))\n",
    "gs = gs.na.fill(0,[\"ZipCode\"])"
   ]
  },
  {
   "cell_type": "code",
   "execution_count": 9,
   "id": "ea06b4b8-788a-44d3-979b-e892b4ebe9d9",
   "metadata": {},
   "outputs": [],
   "source": [
    "#Borough excluir valores invalidos\n",
    "listValues = ['B', 'Q', 'R', 'X', 'M']\n",
    "gs = gs.filter(col('Borough').isin(listValues))"
   ]
  },
  {
   "cell_type": "code",
   "execution_count": 10,
   "id": "waiting-amazon",
   "metadata": {},
   "outputs": [],
   "source": [
    "# Acres para hectares\n",
    "gs = gs.withColumn(\"Hectares\",col(\"Hectares\") /2.471 )\n"
   ]
  },
  {
   "cell_type": "code",
   "execution_count": 11,
   "id": "35398616-d4d6-426f-8fd2-2bc41321f974",
   "metadata": {},
   "outputs": [],
   "source": [
    "#Escrever delta lake\n",
    "gs \\\n",
    "    .select(\"System\",\"Gispropnum\",\"Omppropid\",\"Department\",\"Parent_ID\",\"Location\",\"Hectares\",\"GSType\",\"SubCategory\",\"CommunityBoard\",\"Precinct\",\"ZipCode\",\"FeatureStatus\",\"STArea\",\"STLenght\",\"Multypolygon\",\"Borough\") \\\n",
    "    .write \\\n",
    "    .mode(\"overwrite\") \\\n",
    "    .partitionBy(\"Borough\") \\\n",
    "    .format(\"delta\") \\\n",
    "    .save(\"hdfs://hdfs-nn:9000/AreasVerdes/Silver/GreenStreets\")"
   ]
  },
  {
   "cell_type": "code",
   "execution_count": null,
   "id": "919fa56f-f0fb-4d95-865f-d2693c30117f",
   "metadata": {},
   "outputs": [],
   "source": [
    "spark.stop()"
   ]
  },
  {
   "cell_type": "code",
   "execution_count": null,
   "id": "fa8cb445-5586-459a-8f51-ea58cfee08d6",
   "metadata": {},
   "outputs": [],
   "source": []
  }
 ],
 "metadata": {
  "kernelspec": {
   "display_name": "Python 3 (ipykernel)",
   "language": "python",
   "name": "python3"
  },
  "language_info": {
   "codemirror_mode": {
    "name": "ipython",
    "version": 3
   },
   "file_extension": ".py",
   "mimetype": "text/x-python",
   "name": "python",
   "nbconvert_exporter": "python",
   "pygments_lexer": "ipython3",
   "version": "3.10.6"
  }
 },
 "nbformat": 4,
 "nbformat_minor": 5
}
