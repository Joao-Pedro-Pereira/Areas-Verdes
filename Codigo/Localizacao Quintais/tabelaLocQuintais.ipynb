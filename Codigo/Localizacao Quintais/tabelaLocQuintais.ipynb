{
 "cells": [
  {
   "cell_type": "code",
   "execution_count": 1,
   "id": "10dd1bfd",
   "metadata": {},
   "outputs": [
    {
     "name": "stdout",
     "output_type": "stream",
     "text": [
      "Requirement already satisfied: delta-spark in /opt/conda/lib/python3.9/site-packages (1.0.0)\n",
      "Requirement already satisfied: importlib-metadata>=3.10.0 in /opt/conda/lib/python3.9/site-packages (from delta-spark) (4.8.1)\n",
      "Requirement already satisfied: pyspark<3.2.0,>=3.1.0 in /usr/local/spark-3.1.2-bin-hadoop3.2/python (from delta-spark) (3.1.2)\n",
      "Requirement already satisfied: zipp>=0.5 in /opt/conda/lib/python3.9/site-packages (from importlib-metadata>=3.10.0->delta-spark) (3.6.0)\n",
      "Requirement already satisfied: py4j==0.10.9 in /opt/conda/lib/python3.9/site-packages (from pyspark<3.2.0,>=3.1.0->delta-spark) (0.10.9)\n",
      "Note: you may need to restart the kernel to use updated packages.\n"
     ]
    }
   ],
   "source": [
    "#pip install delta-spark"
   ]
  },
  {
   "cell_type": "code",
   "execution_count": 1,
   "id": "governmental-sullivan",
   "metadata": {},
   "outputs": [],
   "source": [
    "from pyspark.sql import SparkSession\n",
    "from pyspark.sql import Row\n",
    "from delta import *\n",
    "\n",
    "# warehouse_location points to the default location for managed databases and tables\n",
    "warehouse_location = 'hdfs://hdfs-nn:9000/AreasVerdes/warehouse'\n",
    "\n",
    "builder = SparkSession \\\n",
    "    .builder \\\n",
    "    .appName(\"Python Spark SQL Hive integration example\") \\\n",
    "    .config(\"spark.sql.warehouse.dir\", warehouse_location) \\\n",
    "    .config(\"hive.metastore.uris\", \"thrift://hive-metastore:9083\") \\\n",
    "    .config(\"spark.sql.extensions\", \"io.delta.sql.DeltaSparkSessionExtension\") \\\n",
    "    .config(\"spark.sql.catalog.spark_catalog\", \"org.apache.spark.sql.delta.catalog.DeltaCatalog\") \\\n",
    "    .config(\"spark.jars.packages\", \"io.delta:delta-core_2.12:1.0.0\") \\\n",
    "    .enableHiveSupport() \\\n",
    "\n",
    "spark = spark = configure_spark_with_delta_pip(builder).getOrCreate()"
   ]
  },
  {
   "cell_type": "code",
   "execution_count": 5,
   "id": "dominant-executive",
   "metadata": {},
   "outputs": [
    {
     "name": "stdout",
     "output_type": "stream",
     "text": [
      "+---------+\n",
      "|namespace|\n",
      "+---------+\n",
      "|  default|\n",
      "|     demo|\n",
      "+---------+\n",
      "\n"
     ]
    }
   ],
   "source": [
    "spark.sql(\n",
    "    \"\"\"\n",
    "    SHOW DATABASES\n",
    "    \"\"\"\n",
    ").show()"
   ]
  },
  {
   "cell_type": "code",
   "execution_count": 4,
   "id": "neutral-specialist",
   "metadata": {},
   "outputs": [
    {
     "data": {
      "text/plain": [
       "DataFrame[]"
      ]
     },
     "execution_count": 4,
     "metadata": {},
     "output_type": "execute_result"
    }
   ],
   "source": [
    "#spark.sql(\n",
    " #   \"\"\"\n",
    "  #  DROP DATABASE IF EXISTS AreasVerdes CASCADE\n",
    "   # \"\"\"\n",
    "#)"
   ]
  },
  {
   "cell_type": "code",
   "execution_count": 4,
   "id": "funny-republican",
   "metadata": {},
   "outputs": [
    {
     "data": {
      "text/plain": [
       "DataFrame[]"
      ]
     },
     "execution_count": 4,
     "metadata": {},
     "output_type": "execute_result"
    }
   ],
   "source": [
    "# you can choose any location in HDFS, just be organized \n",
    "# Your data lake will grow with time and will become a swamp\n",
    "spark.sql(\n",
    "    \"\"\"\n",
    "    CREATE DATABASE AreasVerdes LOCATION 'hdfs://hdfs-nn:9000/AreasVerdes/warehouse/AreasVerdes.db/'\n",
    "    \"\"\"\n",
    ")"
   ]
  },
  {
   "cell_type": "code",
   "execution_count": 7,
   "id": "outer-reminder",
   "metadata": {},
   "outputs": [
    {
     "name": "stdout",
     "output_type": "stream",
     "text": [
      "+-----------+\n",
      "|  namespace|\n",
      "+-----------+\n",
      "|areasverdes|\n",
      "|    default|\n",
      "|       demo|\n",
      "+-----------+\n",
      "\n"
     ]
    }
   ],
   "source": [
    "spark.sql(\n",
    "    \"\"\"\n",
    "    SHOW DATABASES\n",
    "    \"\"\"\n",
    ").show()"
   ]
  },
  {
   "cell_type": "code",
   "execution_count": 8,
   "id": "massive-throw",
   "metadata": {},
   "outputs": [
    {
     "name": "stdout",
     "output_type": "stream",
     "text": [
      "+---------+---------+-----------+\n",
      "|namespace|tableName|isTemporary|\n",
      "+---------+---------+-----------+\n",
      "+---------+---------+-----------+\n",
      "\n"
     ]
    }
   ],
   "source": [
    "spark.sql(\n",
    "    \"\"\"\n",
    "    SHOW TABLES FROM AreasVerdes\n",
    "    \"\"\"\n",
    ").show()"
   ]
  },
  {
   "cell_type": "code",
   "execution_count": 19,
   "id": "2456ef84",
   "metadata": {},
   "outputs": [
    {
     "data": {
      "text/plain": [
       "DataFrame[]"
      ]
     },
     "execution_count": 19,
     "metadata": {},
     "output_type": "execute_result"
    }
   ],
   "source": [
    "spark.sql(\n",
    "    \"\"\"\n",
    "    DROP TABLE IF EXISTS AreasVerdes.LocQuintais_Table\n",
    "    \"\"\"\n",
    ")\n",
    "spark.sql(\n",
    "    \"\"\"\n",
    "    CREATE EXTERNAL TABLE AreasVerdes.LocQuintais_Table (\n",
    "        assemblydist INT,\n",
    "        borough STRING,\n",
    "        communityboard INT,\n",
    "        congressionaldist INT ,\n",
    "        coundist INT,\n",
    "        gardenname STRING,\n",
    "        juris STRING,\n",
    "        multipolygon STRING,\n",
    "        openhrsf STRING,\n",
    "        openhrsm STRING,\n",
    "        openhrssa STRING,\n",
    "        openhrssu STRING,\n",
    "        openhrsth STRING,\n",
    "        openhrstu STRING,\n",
    "        openhrsw STRING,\n",
    "        parksid1 STRING,\n",
    "        policeprecinct STRING,\n",
    "        statesenatedist INT,\n",
    "        status STRING,\n",
    "        zipcode INT\n",
    "        \n",
    "    )\n",
    "    USING DELTA\n",
    "    LOCATION 'hdfs://hdfs-nn:9000/AreasVerdes/silver/LocQuintais'\n",
    "    \"\"\"\n",
    ")"
   ]
  },
  {
   "cell_type": "code",
   "execution_count": 18,
   "id": "be53f6fe-6177-4ba8-bbc7-bd877c48ea3b",
   "metadata": {},
   "outputs": [
    {
     "data": {
      "text/plain": [
       "DataFrame[]"
      ]
     },
     "execution_count": 18,
     "metadata": {},
     "output_type": "execute_result"
    }
   ],
   "source": [
    "spark.sql(\n",
    "    \"\"\"\n",
    "    DROP TABLE IF EXISTS AreasVerdes.LocQuintais_Table\n",
    "    \"\"\"\n",
    ")"
   ]
  },
  {
   "cell_type": "code",
   "execution_count": 10,
   "id": "innovative-commonwealth",
   "metadata": {},
   "outputs": [
    {
     "name": "stdout",
     "output_type": "stream",
     "text": [
      "+-----------+-------------+-----------+\n",
      "|  namespace|    tableName|isTemporary|\n",
      "+-----------+-------------+-----------+\n",
      "|areasverdes|arvores_table|      false|\n",
      "+-----------+-------------+-----------+\n",
      "\n"
     ]
    }
   ],
   "source": [
    "spark.sql(\n",
    "    \"\"\"\n",
    "    SHOW TABLES FROM AreasVerdes\n",
    "    \"\"\"\n",
    ").show()"
   ]
  },
  {
   "cell_type": "code",
   "execution_count": 12,
   "id": "disciplinary-squad",
   "metadata": {},
   "outputs": [],
   "source": [
    "# Let's look into HDFS"
   ]
  },
  {
   "cell_type": "code",
   "execution_count": 11,
   "id": "listed-seafood",
   "metadata": {},
   "outputs": [],
   "source": [
    "spark.stop()"
   ]
  },
  {
   "cell_type": "code",
   "execution_count": null,
   "id": "79d36e0f-3a69-458b-8758-4fbf7c2e424d",
   "metadata": {},
   "outputs": [],
   "source": []
  }
 ],
 "metadata": {
  "kernelspec": {
   "display_name": "Python 3 (ipykernel)",
   "language": "python",
   "name": "python3"
  },
  "language_info": {
   "codemirror_mode": {
    "name": "ipython",
    "version": 3
   },
   "file_extension": ".py",
   "mimetype": "text/x-python",
   "name": "python",
   "nbconvert_exporter": "python",
   "pygments_lexer": "ipython3",
   "version": "3.10.6"
  }
 },
 "nbformat": 4,
 "nbformat_minor": 5
}
