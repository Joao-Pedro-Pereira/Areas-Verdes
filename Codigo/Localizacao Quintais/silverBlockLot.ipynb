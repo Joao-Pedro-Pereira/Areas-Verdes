{
 "cells": [
  {
   "cell_type": "code",
   "execution_count": 15,
   "id": "91a474c5-0073-473b-becd-99a247779c06",
   "metadata": {},
   "outputs": [],
   "source": [
    "from pyspark.sql import SparkSession\n",
    "from pyspark.sql import Row\n",
    "from delta import *\n",
    "from os import PathLike\n",
    "from hdfs import InsecureClient\n",
    "from pyspark.sql.types import LongType, StringType, StructField, StructType, BooleanType, ArrayType, IntegerType\n",
    "from pyspark.sql.functions import when, col, concat, lit\n",
    "\n",
    "# warehouse_location points to the default location for managed databases and tables\n",
    "warehouse_location = 'hdfs://hdfs-nn:9000/AreasVerdes/warehouse'\n",
    "\n",
    "builder = SparkSession \\\n",
    "    .builder \\\n",
    "    .master(\"local[2]\") \\\n",
    "    .appName(\"Python Spark DataFrames and SQL\") \\\n",
    "    .config(\"spark.sql.warehouse.dir\", warehouse_location) \\\n",
    "    .config(\"hive.metastore.uris\", \"thrift://hive-metastore:9083\") \\\n",
    "    .config(\"spark.sql.extensions\", \"io.delta.sql.DeltaSparkSessionExtension\") \\\n",
    "    .config(\"spark.sql.catalog.spark_catalog\", \"org.apache.spark.sql.delta.catalog.DeltaCatalog\") \\\n",
    "    .config(\"spark.jars.packages\", \"io.delta:delta-core_2.12:1.0.0\") \\\n",
    "    .enableHiveSupport() \\\n",
    "\n",
    "spark = configure_spark_with_delta_pip(builder).getOrCreate()"
   ]
  },
  {
   "cell_type": "code",
   "execution_count": 16,
   "id": "1d9afffd-fceb-4604-8be3-2829cbb58714",
   "metadata": {},
   "outputs": [],
   "source": [
    "hdfs_path = \"hdfs://hdfs-nn:9000/AreasVerdes/bronze/LocQuintais_csv/BlockLot.csv\""
   ]
  },
  {
   "cell_type": "code",
   "execution_count": 17,
   "id": "5b34c66d-ad56-420f-9177-c2b95832b894",
   "metadata": {},
   "outputs": [],
   "source": [
    "# Create a DataFrame from JSON data (automatically infer schema and data types)\n",
    "# There are other file formats you can read from (e.g., csv, orc, parquet)\n",
    "# https://spark.apache.org/docs/2.2.0/sql-programming-guide.html#data-sources\n",
    "\n",
    "# Read Sillicon valley episodes data\n",
    "customSchema = StructType([\n",
    "    StructField(\"parksid\", StringType(), True),\n",
    "    StructField(\"block\", IntegerType(), True),\n",
    "    StructField(\"lotnum\", IntegerType(), True),\n",
    "    StructField(\"lotsize\", IntegerType(), True),\n",
    "    StructField(\"areacovered\", StringType(), True)\n",
    "])\n",
    "\n",
    "BlockLot = spark \\\n",
    "            .read\\\n",
    "            .option(\"delimiter\",\",\")\\\n",
    "            .option(\"header\",\"true\")\\\n",
    "            .schema(customSchema) \\\n",
    "            .csv(hdfs_path)"
   ]
  },
  {
   "cell_type": "code",
   "execution_count": 18,
   "id": "9e78b904-32c3-41f1-bb56-2809b7f431a3",
   "metadata": {},
   "outputs": [],
   "source": [
    "# Escolho as colunas que quero\n",
    "BlockLot = BlockLot.select(\"parksid\", \"block\", \"lotnum\", \"lotsize\", \"areacovered\")"
   ]
  },
  {
   "cell_type": "code",
   "execution_count": 19,
   "id": "bfd6f5a4-4992-4324-8e1c-730a6aa766d3",
   "metadata": {},
   "outputs": [],
   "source": [
    "#substituir a informação das linhas para Unknown\n",
    "BlockLot = BlockLot.na.fill(0,[\"lotsize\"])"
   ]
  },
  {
   "cell_type": "code",
   "execution_count": 20,
   "id": "cc812140-bbea-4df8-adef-c5b7e9b83b5f",
   "metadata": {},
   "outputs": [],
   "source": [
    "#substituir a informação das linhas para Unknown\n",
    "\n",
    "BlockLot = BlockLot.na.fill(\"Unknown\",[\"areacovered\"])"
   ]
  },
  {
   "cell_type": "code",
   "execution_count": 21,
   "id": "dc65f0f3-509e-429a-8ae5-033f74111b8c",
   "metadata": {},
   "outputs": [
    {
     "name": "stdout",
     "output_type": "stream",
     "text": [
      "+----------+\n",
      "|   parksid|\n",
      "+----------+\n",
      "|B505-GT001|\n",
      "|M333-GT001|\n",
      "|    QGT008|\n",
      "|    MGT038|\n",
      "|X339-GT001|\n",
      "|    MGT039|\n",
      "|Q507-GT001|\n",
      "|    MGT091|\n",
      "|M315-GT001|\n",
      "|    XGT031|\n",
      "|B490-GT001|\n",
      "|B507-GT002|\n",
      "|B444-GT001|\n",
      "|    BGT060|\n",
      "|B471-GT001|\n",
      "|X333-GT001|\n",
      "|B508-GT001|\n",
      "|    BGT056|\n",
      "|X361-GT001|\n",
      "|Q484-GT001|\n",
      "+----------+\n",
      "only showing top 20 rows\n",
      "\n"
     ]
    }
   ],
   "source": [
    "#ver os possiveis resultados na coluna parksid\n",
    "BlockLot.createOrReplaceTempView(\"BlockLot\")\n",
    "\n",
    "sqlized_df = spark.sql(\n",
    "    \"\"\"\n",
    "    SELECT Distinct parksid\n",
    "    FROM BlockLot\n",
    "    \"\"\"\n",
    ")\n",
    "\n",
    "sqlized_df.show()"
   ]
  },
  {
   "cell_type": "code",
   "execution_count": 22,
   "id": "40228381-83cd-49fd-a915-bfdc35374297",
   "metadata": {},
   "outputs": [
    {
     "name": "stdout",
     "output_type": "stream",
     "text": [
      "Distinct count: 1043\n",
      "+----------+-----+------+-------+-----------+\n",
      "|parksid   |block|lotnum|lotsize|areacovered|\n",
      "+----------+-----+------+-------+-----------+\n",
      "|MGT008    |1788 |31    |0      |Unknown    |\n",
      "|BGT014    |3043 |14    |0      |Unknown    |\n",
      "|X235-GT001|2625 |17    |0      |Unknown    |\n",
      "|MGT018    |1631 |2     |0      |Unknown    |\n",
      "|B504-GT001|8173 |66    |2000   |Full Lot   |\n",
      "|M328-GT001|1953 |22    |0      |Unknown    |\n",
      "|X276-GT001|2616 |29    |0      |Unknown    |\n",
      "|M321-GT001|439  |10    |8225   |Partial Lot|\n",
      "|B424-GT001|2407 |30    |0      |Unknown    |\n",
      "|X285-GT001|2267 |62    |0      |Unknown    |\n",
      "|B166-GT001|8312 |1     |6250   |Partial Lot|\n",
      "|BGT173    |3245 |39    |5000   |Full Lot   |\n",
      "|B523-GT001|7247 |240   |0      |Unknown    |\n",
      "|X364-GT001|3540 |1     |0      |Unknown    |\n",
      "|M387-GT001|1923 |20    |0      |Unknown    |\n",
      "|X317-GT001|2406 |28    |0      |Unknown    |\n",
      "|B562-GT001|7052 |56    |30369  |Full Lot   |\n",
      "|M362-GT001|1722 |5     |0      |Unknown    |\n",
      "|X358-GT001|2784 |4     |0      |Unknown    |\n",
      "|QGT002    |12356|19    |0      |Unknown    |\n",
      "+----------+-----+------+-------+-----------+\n",
      "only showing top 20 rows\n",
      "\n"
     ]
    }
   ],
   "source": [
    "#caso haja, remover parksid duplicados\n",
    "parksid = BlockLot.dropDuplicates()\n",
    "print(\"Distinct count: \"+str(parksid.count()))\n",
    "parksid.show(truncate=False)"
   ]
  },
  {
   "cell_type": "code",
   "execution_count": 23,
   "id": "05499e42-30aa-439f-9e47-5453fdcf6d49",
   "metadata": {},
   "outputs": [],
   "source": [
    "#write df to hive deltalake_table\n",
    "#.select(\"customer_name\",\"month\", \"sales\", \"year\")  reorder columns to match parquet table sequence\n",
    "BlockLot \\\n",
    "    .select(\"parksid\", \"block\", \"lotnum\", \"lotsize\", \"areacovered\") \\\n",
    "    .write \\\n",
    "    .mode(\"overwrite\") \\\n",
    "    .format(\"delta\") \\\n",
    "    .save(\"hdfs://hdfs-nn:9000/AreasVerdes/silver/BlockLot\")"
   ]
  },
  {
   "cell_type": "code",
   "execution_count": 14,
   "id": "58bdf037-c0c9-4313-8a15-9f5b68a4e84b",
   "metadata": {},
   "outputs": [
    {
     "name": "stdout",
     "output_type": "stream",
     "text": [
      "+-----------+-----+------+-------+-----------+\n",
      "|    parksid|block|lotnum|lotsize|areacovered|\n",
      "+-----------+-----+------+-------+-----------+\n",
      "| B024-GT001| 2912|     1|      0|    Unknown|\n",
      "| M071-GT001| 1254|    10|      0|    Unknown|\n",
      "| B088-GT001| 1790|     1|      0|    Unknown|\n",
      "| B245-GT001| 1353|     1|    900|    Unknown|\n",
      "| Q448-GT001|12406|   180|      0|    Unknown|\n",
      "|X179A-GT001| 2685|    30|      0|    Unknown|\n",
      "|X179A-GT001| 2685|    78|      0|    Unknown|\n",
      "|     MGT043| 1080|     1|      0|    Unknown|\n",
      "|     MGT086| 1205|     6|      0|    Unknown|\n",
      "|     MGT087| 1220|    17|      0|    Unknown|\n",
      "|     MGT088|  259|    44|      0|    Unknown|\n",
      "| M105-GT002|  418|     1|      0|    Unknown|\n",
      "|     MGT091|  431|    14|      0|    Unknown|\n",
      "|     RGT005|  569|   245|      0|    Unknown|\n",
      "| M278-GT001|  606|     1|      0|    Unknown|\n",
      "| Q470-GT001|  638|    37|      0|    Unknown|\n",
      "|     BGT123| 1552|    21|      0|    Unknown|\n",
      "|     BGT129| 1670|    49|      0|    Unknown|\n",
      "|     MGT051| 2045|    98|      0|    Unknown|\n",
      "|     MGT056|  493|    30|      0|    Unknown|\n",
      "+-----------+-----+------+-------+-----------+\n",
      "only showing top 20 rows\n",
      "\n"
     ]
    }
   ],
   "source": [
    "spark.sql(\n",
    "    \"\"\"\n",
    "    SELECT *\n",
    "    FROM AreasVerdes.BlockLot_Table\n",
    "    \"\"\"\n",
    ").show()"
   ]
  },
  {
   "cell_type": "code",
   "execution_count": null,
   "id": "c513246e-db22-4149-af5d-b63500382312",
   "metadata": {},
   "outputs": [],
   "source": []
  }
 ],
 "metadata": {
  "kernelspec": {
   "display_name": "Python 3 (ipykernel)",
   "language": "python",
   "name": "python3"
  },
  "language_info": {
   "codemirror_mode": {
    "name": "ipython",
    "version": 3
   },
   "file_extension": ".py",
   "mimetype": "text/x-python",
   "name": "python",
   "nbconvert_exporter": "python",
   "pygments_lexer": "ipython3",
   "version": "3.10.6"
  }
 },
 "nbformat": 4,
 "nbformat_minor": 5
}
