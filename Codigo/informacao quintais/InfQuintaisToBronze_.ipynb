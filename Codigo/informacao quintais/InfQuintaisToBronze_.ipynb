{
 "cells": [
  {
   "cell_type": "code",
   "execution_count": 3,
   "id": "e6a4dd5b-3ca9-4a97-8f8f-2c1fc2151e56",
   "metadata": {},
   "outputs": [
    {
     "data": {
      "text/plain": [
       "'/AreasVerdes/bronze/InfQuintais_csv/InfQuintais.csv'"
      ]
     },
     "execution_count": 3,
     "metadata": {},
     "output_type": "execute_result"
    }
   ],
   "source": [
    "# Copy File to bronze layer\n",
    "from os import PathLike\n",
    "from hdfs import InsecureClient\n",
    "client = InsecureClient(\"http://hdfs-nn:9870\", user=\"anonymous\")\n",
    "\n",
    "from_path = \"./InfQuintais.csv\"\n",
    "to_path = \"/AreasVerdes/bronze/InfQuintais_csv/InfQuintais.csv\"\n",
    "\n",
    "client.delete(to_path)\n",
    "\n",
    "client.upload(to_path, from_path)\n",
    "\n",
    "# More HDFS functions here if needed (e.g., write, list files, delete files, rename, delete, etc...)\n",
    "# https://hdfscli.readthedocs.io/en/latest/quickstart.html"
   ]
  },
  {
   "cell_type": "code",
   "execution_count": null,
   "id": "dbc62129-b7b0-4555-b7f2-6f5b80ec8160",
   "metadata": {},
   "outputs": [],
   "source": []
  }
 ],
 "metadata": {
  "kernelspec": {
   "display_name": "Python 3 (ipykernel)",
   "language": "python",
   "name": "python3"
  },
  "language_info": {
   "codemirror_mode": {
    "name": "ipython",
    "version": 3
   },
   "file_extension": ".py",
   "mimetype": "text/x-python",
   "name": "python",
   "nbconvert_exporter": "python",
   "pygments_lexer": "ipython3",
   "version": "3.10.6"
  }
 },
 "nbformat": 4,
 "nbformat_minor": 5
}
