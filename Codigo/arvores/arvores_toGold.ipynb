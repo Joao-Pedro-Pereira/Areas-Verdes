{
 "cells": [
  {
   "cell_type": "code",
   "execution_count": 1,
   "id": "0510cae7-c03e-4cf5-8579-0ffc9bfaf7fc",
   "metadata": {},
   "outputs": [],
   "source": [
    "from pyspark.sql import SparkSession\n",
    "from pyspark.sql import Row\n",
    "from delta import *\n",
    "from os import PathLike\n",
    "from hdfs import InsecureClient\n",
    "from pyspark.sql.types import LongType, StringType, StructField, StructType, BooleanType, ArrayType, IntegerType\n",
    "from pyspark.sql.functions import when, col, concat, lit, substring, avg, sum, count, countDistinct\n",
    "\n",
    "# warehouse_location points to the default location for managed databases and tables\n",
    "warehouse_location = 'hdfs://hdfs-nn:9000/AreasVerdes/warehouse'\n",
    "\n",
    "builder = SparkSession \\\n",
    "    .builder \\\n",
    "    .master(\"local[2]\") \\\n",
    "    .appName(\"Python Spark DataFrames and SQL\") \\\n",
    "    .config(\"spark.sql.warehouse.dir\", warehouse_location) \\\n",
    "    .config(\"hive.metastore.uris\", \"thrift://hive-metastore:9083\") \\\n",
    "    .config(\"spark.sql.extensions\", \"io.delta.sql.DeltaSparkSessionExtension\") \\\n",
    "    .config(\"spark.sql.catalog.spark_catalog\", \"org.apache.spark.sql.delta.catalog.DeltaCatalog\") \\\n",
    "    .config(\"spark.jars.packages\", \"io.delta:delta-core_2.12:1.0.0\") \\\n",
    "    .enableHiveSupport() \\\n",
    "\n",
    "spark = configure_spark_with_delta_pip(builder).getOrCreate()"
   ]
  },
  {
   "cell_type": "code",
   "execution_count": 2,
   "id": "87b10219-c3dd-4ef6-a459-c02a10210004",
   "metadata": {},
   "outputs": [],
   "source": [
    "arvores_gold = spark.table(\"AreasVerdes.arvores\")"
   ]
  },
  {
   "cell_type": "code",
   "execution_count": 3,
   "id": "b9e88ddd-bebc-4dff-98b8-f510f7ff8cce",
   "metadata": {},
   "outputs": [],
   "source": [
    "#Cria a coluna problems_general e cria um count para essa coluna\n",
    "arvores_problems_gold = arvores_gold.select(\"year\",\"boroname\", \"problems_canopy_general\",\"problems_guard_general\",\"problems_wires_general\",\"problems_paving_general\",\"problems_outlet_general\",\"problems_shoes_general\",\"problems_lights_general\",\"problems_trunk_general\",\"problems_trunk_light\",\"problems_trunk_wire\",\"problems_trunk_other\",\"problems_root_stone\",\"problems_root_grate\",\"problems_root_other\", \"problems_branch_light\", \"problems_branch_shoe\",\"problems_branch_other\")\n",
    "arvores_problems_gold = arvores_problems_gold.withColumn(\"problems_general\", lit(\"None\"))\n",
    "arvores_problems_gold = arvores_problems_gold.withColumn(\"problems_general\", when((arvores_problems_gold.problems_guard_general == \"Yes\") & (arvores_problems_gold.problems_wires_general == \"Yes\") & (arvores_problems_gold.problems_shoes_general== \"Yes\") & (arvores_problems_gold.problems_lights_general== \"Yes\") & (arvores_problems_gold.problems_trunk_general== \"Yes\") & (arvores_problems_gold.problems_root_stone== \"Yes\") & (arvores_problems_gold.problems_root_grate== \"Yes\") & (arvores_problems_gold.problems_branch_light== \"Yes\") & (arvores_problems_gold.problems_branch_shoe== \"Yes\") ,\"all\") \\\n",
    "      .when((arvores_problems_gold.problems_root_stone== \"Yes\") & (arvores_problems_gold.problems_lights_general== \"Yes\") & (arvores_problems_gold.problems_wires_general== \"Yes\") ,\"Wires, Light, Stones\" ) \\\n",
    "      .when((arvores_problems_gold.problems_root_stone== \"Yes\") & (arvores_problems_gold.problems_trunk_general== \"Yes\") & (arvores_problems_gold.problems_wires_general== \"Yes\") ,\"Wires, Trunk, Stones\" ) \\\n",
    "      .when((arvores_problems_gold.problems_root_stone== \"Yes\") & (arvores_problems_gold.problems_lights_general== \"Yes\") & (arvores_problems_gold.problems_trunk_general== \"Yes\") & (arvores_problems_gold.problems_wires_general== \"Yes\") ,\"Trunk, Light, Stones, Wires\" )                              \n",
    "      .when((arvores_problems_gold.problems_lights_general== \"Yes\") & (arvores_problems_gold.problems_trunk_general== \"Yes\") ,\"Trunk, Light\" ) \\\n",
    "      .when((arvores_problems_gold.problems_root_stone== \"Yes\") & (arvores_problems_gold.problems_trunk_general== \"Yes\") ,\"Trunk, Stone\" ) \\\n",
    "      .when((arvores_problems_gold.problems_lights_general== \"Yes\") & (arvores_problems_gold.problems_root_stone== \"Yes\") ,\"Stone, Light\" ) \\\n",
    "      .when((arvores_problems_gold.problems_lights_general== \"Yes\") & (arvores_problems_gold.problems_wires_general== \"Yes\") ,\"Wires, Light\" ) \\\n",
    "      .when((arvores_problems_gold.problems_wires_general== \"Yes\") & (arvores_problems_gold.problems_root_stone== \"Yes\") ,\"Stone, Wires\" ) \\\n",
    "      .when((arvores_problems_gold.problems_trunk_general== \"Yes\") & (arvores_problems_gold.problems_wires_general== \"Yes\") ,\"Trunk, Wires\" ) \\\n",
    "      .when(arvores_problems_gold.problems_shoes_general== \"Yes\" ,\"Shoes\" ) \\\n",
    "      .when(arvores_problems_gold.problems_lights_general== \"Yes\" ,\"Light\" ) \\\n",
    "      .when(arvores_problems_gold.problems_root_stone== \"Yes\" ,\"Stone\" ) \\\n",
    "      .when(arvores_problems_gold.problems_trunk_general== \"Yes\" ,\"Trunk\" ) \\\n",
    "      .when(arvores_problems_gold.problems_wires_general== \"Yes\" ,\"Wires\" ) \\\n",
    "      .when(arvores_problems_gold.year== 1995 ,\"Unknown\" ) \\\n",
    "      .otherwise(arvores_problems_gold.problems_general))\n",
    "\n",
    "arvores_problems_gold = arvores_problems_gold \\\n",
    "    .groupBy(\"year\", \"boroname\", \"problems_general\") \\\n",
    "    .agg(\n",
    "        count(arvores_problems_gold.problems_general).alias(\"number_problems\"),\n",
    "    )\n",
    "arvores_problems_gold = arvores_problems_gold.withColumn(\"number_problems\",col(\"number_problems\").cast(IntegerType())) \n"
   ]
  },
  {
   "cell_type": "code",
   "execution_count": 5,
   "id": "88f76a3f-dee3-4136-9e69-14e629585f19",
   "metadata": {},
   "outputs": [],
   "source": [
    "# estatisticas para as species\n",
    "arvores_species_gold = arvores_gold \\\n",
    "    .groupBy(\"year\", \"boroname\", \"comun_species_name\") \\\n",
    "    .agg(\n",
    "        count(arvores_gold.comun_species_name).alias(\"number_species\"),\n",
    "    )\n",
    "arvores_species_gold = arvores_species_gold.withColumn(\"number_species\",col(\"number_species\").cast(IntegerType())) "
   ]
  },
  {
   "cell_type": "code",
   "execution_count": 3,
   "id": "f994ef97-fd14-47fb-9f00-d3b83db1e2c8",
   "metadata": {},
   "outputs": [],
   "source": [
    "# estatisticas para os passeios\n",
    "arvores_sidewalk_gold = arvores_gold \\\n",
    "    .groupBy(\"year\", \"boroname\", \"sidewalk\") \\\n",
    "    .agg(\n",
    "        count(arvores_gold.sidewalk).alias(\"number_sidewalk\"),\n",
    "    )\n",
    "\n",
    "arvores_sidewalk_gold = arvores_sidewalk_gold.withColumn(\"number_sidewalk\",col(\"number_sidewalk\").cast(IntegerType())) "
   ]
  },
  {
   "cell_type": "code",
   "execution_count": 4,
   "id": "11fe1d09-1957-4e43-9572-c58d21f9dd17",
   "metadata": {},
   "outputs": [],
   "source": [
    "# estatisticas para a saude das arvores\n",
    "arvores_health_gold = arvores_gold \\\n",
    "    .groupBy(\"year\", \"boroname\", \"health\") \\\n",
    "    .agg(\n",
    "        count(arvores_gold.health).alias(\"number_health\"),\n",
    "    )\n",
    "\n",
    "arvores_health_gold = arvores_health_gold.withColumn(\"number_health\",col(\"number_health\").cast(IntegerType())) "
   ]
  },
  {
   "cell_type": "code",
   "execution_count": 5,
   "id": "8f7bcef1-590d-4ba6-9691-d7c3b862520a",
   "metadata": {},
   "outputs": [
    {
     "name": "stdout",
     "output_type": "stream",
     "text": [
      "+----+-----------+---------+\n",
      "|year|number_year|objective|\n",
      "+----+-----------+---------+\n",
      "|2015|     683788|   316212|\n",
      "|2005|     592389|   407611|\n",
      "|1995|     516989|   483011|\n",
      "+----+-----------+---------+\n",
      "\n"
     ]
    }
   ],
   "source": [
    "# estatisticas para o numero das arvores\n",
    "arvores_year_gold = arvores_gold \\\n",
    "    .groupBy(\"year\") \\\n",
    "    .agg(\n",
    "        count(arvores_gold.health).alias(\"number_year\"),\n",
    "    )\n",
    "\n",
    "arvores_year_gold = arvores_year_gold.withColumn(\"number_year\",col(\"number_year\").cast(IntegerType())) \n",
    "arvores_year_gold = arvores_year_gold.withColumn(\"objective\", lit(\"316212\"))\n",
    "arvores_year_gold = arvores_year_gold.withColumn(\"objective\", when(arvores_year_gold.year == 2005,407611) \\\n",
    "      .when(arvores_year_gold.year == 1995,483011) \\\n",
    "      .otherwise(arvores_year_gold.objective))\n",
    "arvores_year_gold = arvores_year_gold.withColumn(\"objective\",col(\"objective\").cast(IntegerType())) "
   ]
  },
  {
   "cell_type": "code",
   "execution_count": 6,
   "id": "a5a8592e-84f7-4733-911f-44d049fc4e2b",
   "metadata": {},
   "outputs": [],
   "source": [
    "#guarda os anos\n",
    "arvores_year_gold \\\n",
    "    .select(\"year\",\"number_year\",\"objective\") \\\n",
    "    .write \\\n",
    "    .mode(\"overwrite\") \\\n",
    "    .format(\"delta\") \\\n",
    "    .save(\"hdfs://hdfs-nn:9000/AreasVerdes/gold/arvores_ano\")"
   ]
  },
  {
   "cell_type": "code",
   "execution_count": 9,
   "id": "31f7cbd4-8a12-4dfd-b220-c32dea2161aa",
   "metadata": {},
   "outputs": [],
   "source": [
    "#guarda a saude\n",
    "arvores_health_gold \\\n",
    "    .select(\"year\",\"boroname\",\"health\",\"number_health\") \\\n",
    "    .write \\\n",
    "    .mode(\"overwrite\") \\\n",
    "    .format(\"delta\") \\\n",
    "    .save(\"hdfs://hdfs-nn:9000/AreasVerdes/gold/arvores_health\")"
   ]
  },
  {
   "cell_type": "code",
   "execution_count": 10,
   "id": "daea9078-3437-424f-8a5f-544dd918d666",
   "metadata": {},
   "outputs": [],
   "source": [
    "#guarda a sidewalk\n",
    "arvores_sidewalk_gold \\\n",
    "    .select(\"year\",\"boroname\",\"sidewalk\",\"number_sidewalk\") \\\n",
    "    .write \\\n",
    "    .mode(\"overwrite\") \\\n",
    "    .format(\"delta\") \\\n",
    "    .save(\"hdfs://hdfs-nn:9000/AreasVerdes/gold/arvores_sidewalk\")"
   ]
  },
  {
   "cell_type": "code",
   "execution_count": 6,
   "id": "4daebb6d-e6da-47c3-a4af-464a05a0b0c0",
   "metadata": {},
   "outputs": [],
   "source": [
    "#guarda as species\n",
    "arvores_species_gold \\\n",
    "    .select(\"year\",\"boroname\",\"comun_species_name\",\"number_species\") \\\n",
    "    .write \\\n",
    "    .mode(\"overwrite\") \\\n",
    "    .format(\"delta\") \\\n",
    "    .save(\"hdfs://hdfs-nn:9000/AreasVerdes/gold/arvores_species\")"
   ]
  },
  {
   "cell_type": "code",
   "execution_count": 5,
   "id": "5bfb7ffe-90df-4e5b-b85e-5da4edaf46e7",
   "metadata": {},
   "outputs": [],
   "source": [
    "#guardar problemas\n",
    "arvores_problems_gold \\\n",
    "    .select(\"year\",\"boroname\",\"problems_general\",\"number_problems\") \\\n",
    "    .write \\\n",
    "    .mode(\"overwrite\") \\\n",
    "    .format(\"delta\") \\\n",
    "    .save(\"hdfs://hdfs-nn:9000/AreasVerdes/gold/arvores_problems\")"
   ]
  },
  {
   "cell_type": "code",
   "execution_count": 6,
   "id": "a8d62a3f-bb08-4f86-8e37-9f9c129ff471",
   "metadata": {},
   "outputs": [
    {
     "name": "stdout",
     "output_type": "stream",
     "text": [
      "+----+-------------+--------------------+---------------+\n",
      "|year|     boroname|    problems_general|number_problems|\n",
      "+----+-------------+--------------------+---------------+\n",
      "|2015|    Manhattan|Wires, Trunk, Stones|            210|\n",
      "|2015|        Bronx|               Light|           4674|\n",
      "|2005|    Manhattan|        Wires, Light|             38|\n",
      "|2015|Staten Island|                None|          87481|\n",
      "|2015|       Queens|               Light|          15313|\n",
      "|2015|Staten Island|Wires, Light, Stones|            239|\n",
      "|2015|    Manhattan|        Stone, Light|            185|\n",
      "|2005|    Manhattan|        Trunk, Light|            267|\n",
      "|2015|       Queens|               Stone|          39385|\n",
      "|2005|        Bronx|               Trunk|          17934|\n",
      "|2015|    Manhattan|               Stone|          10378|\n",
      "|2005|     Brooklyn|               Shoes|            175|\n",
      "|2015|     Brooklyn|        Trunk, Wires|           1682|\n",
      "|2015|Staten Island|Wires, Trunk, Stones|             88|\n",
      "|2015|    Manhattan|Wires, Light, Stones|             68|\n",
      "|2015|Staten Island|                 all|              1|\n",
      "|2005|     Brooklyn|                None|          99375|\n",
      "|2005|     Brooklyn|               Light|            318|\n",
      "|2015|     Brooklyn|               Trunk|           5412|\n",
      "|2005|       Queens|        Trunk, Wires|           1392|\n",
      "+----+-------------+--------------------+---------------+\n",
      "only showing top 20 rows\n",
      "\n"
     ]
    }
   ],
   "source": [
    "spark.sql(\n",
    "    \"\"\"\n",
    "    SELECT *\n",
    "    FROM AreasVerdes.arvores_problems\n",
    "    \"\"\"\n",
    ").show()"
   ]
  },
  {
   "cell_type": "code",
   "execution_count": 7,
   "id": "6a41dcbb-f3ba-46b7-91ea-3dcbed0348a4",
   "metadata": {},
   "outputs": [],
   "source": [
    "spark.stop()"
   ]
  }
 ],
 "metadata": {
  "kernelspec": {
   "display_name": "Python 3 (ipykernel)",
   "language": "python",
   "name": "python3"
  },
  "language_info": {
   "codemirror_mode": {
    "name": "ipython",
    "version": 3
   },
   "file_extension": ".py",
   "mimetype": "text/x-python",
   "name": "python",
   "nbconvert_exporter": "python",
   "pygments_lexer": "ipython3",
   "version": "3.10.6"
  }
 },
 "nbformat": 4,
 "nbformat_minor": 5
}
