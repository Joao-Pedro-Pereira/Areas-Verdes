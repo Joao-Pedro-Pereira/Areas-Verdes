{
 "cells": [
  {
   "cell_type": "code",
   "execution_count": 3,
   "id": "c381be1d-9c78-45ee-8afb-fc8a7c16f343",
   "metadata": {},
   "outputs": [
    {
     "data": {
      "text/plain": [
       "'/AreasVerdes/bronze/arvores_csv/arvores1995.csv'"
      ]
     },
     "execution_count": 3,
     "metadata": {},
     "output_type": "execute_result"
    }
   ],
   "source": [
    "from os import PathLike\n",
    "from hdfs import InsecureClient\n",
    "client=InsecureClient(\"http://hdfs-nn:9870\",user=\"anonymous\")\n",
    "\n",
    "from_path= \"./arvores1995.csv\"\n",
    "to_path=\"/AreasVerdes/bronze/arvores_csv/arvores1995.csv\"\n",
    "\n",
    "client.delete(to_path)\n",
    "client.upload(to_path,from_path)"
   ]
  },
  {
   "cell_type": "code",
   "execution_count": null,
   "id": "6c8c479d-5cf1-4ad6-837f-bdd7e896a3b3",
   "metadata": {},
   "outputs": [],
   "source": []
  }
 ],
 "metadata": {
  "kernelspec": {
   "display_name": "Python 3 (ipykernel)",
   "language": "python",
   "name": "python3"
  },
  "language_info": {
   "codemirror_mode": {
    "name": "ipython",
    "version": 3
   },
   "file_extension": ".py",
   "mimetype": "text/x-python",
   "name": "python",
   "nbconvert_exporter": "python",
   "pygments_lexer": "ipython3",
   "version": "3.10.6"
  }
 },
 "nbformat": 4,
 "nbformat_minor": 5
}
