{
 "cells": [
  {
   "cell_type": "code",
   "execution_count": 2,
   "id": "palestinian-istanbul",
   "metadata": {},
   "outputs": [],
   "source": [
    "from pyspark.sql import SparkSession\n",
    "from pyspark.sql import Row\n",
    "from delta import *\n",
    "from os import PathLike\n",
    "from hdfs import InsecureClient\n",
    "from pyspark.sql.types import LongType, StringType, StructField, StructType, BooleanType, ArrayType, IntegerType\n",
    "from pyspark.sql.functions import when, col, concat, lit\n",
    "\n",
    "# warehouse_location points to the default location for managed databases and tables\n",
    "warehouse_location = 'hdfs://hdfs-nn:9000/AreasVerdes/warehouse'\n",
    "\n",
    "builder = SparkSession \\\n",
    "    .builder \\\n",
    "    .master(\"local[2]\") \\\n",
    "    .appName(\"Python Spark DataFrames and SQL\") \\\n",
    "    .config(\"spark.sql.warehouse.dir\", warehouse_location) \\\n",
    "    .config(\"hive.metastore.uris\", \"thrift://hive-metastore:9083\") \\\n",
    "    .config(\"spark.sql.extensions\", \"io.delta.sql.DeltaSparkSessionExtension\") \\\n",
    "    .config(\"spark.sql.catalog.spark_catalog\", \"org.apache.spark.sql.delta.catalog.DeltaCatalog\") \\\n",
    "    .config(\"spark.jars.packages\", \"io.delta:delta-core_2.12:1.0.0\") \\\n",
    "    .enableHiveSupport() \\\n",
    "\n",
    "spark = configure_spark_with_delta_pip(builder).getOrCreate()"
   ]
  },
  {
   "cell_type": "code",
   "execution_count": 3,
   "id": "blocked-liability",
   "metadata": {},
   "outputs": [],
   "source": [
    "hdfs_path = \"hdfs://hdfs-nn:9000/AreasVerdes/bronze/arvores_csv/arvores2015.csv\""
   ]
  },
  {
   "cell_type": "code",
   "execution_count": 4,
   "id": "interracial-baker",
   "metadata": {},
   "outputs": [],
   "source": [
    "# Create a DataFrame from JSON data (automatically infer schema and data types)\n",
    "# There are other file formats you can read from (e.g., csv, orc, parquet)\n",
    "# https://spark.apache.org/docs/2.2.0/sql-programming-guide.html#data-sources\n",
    "\n",
    "# Read Sillicon valley episodes data\n",
    "customSchema = StructType([\n",
    "    StructField(\"year\", StringType(), True),        \n",
    "    StructField(\"tree_id\", IntegerType(), True),\n",
    "    StructField(\"block_id\", IntegerType(), True),\n",
    "    StructField(\"the_geom\", StringType(), True),\n",
    "    StructField(\"tree_diameter\", IntegerType(), True),\n",
    "    StructField(\"stump_diam\", IntegerType(), True),\n",
    "    StructField(\"curb_loc\", StringType(), True),\n",
    "    StructField(\"status\", StringType(), True),\n",
    "    StructField(\"health\", StringType(), True),\n",
    "    StructField(\"latin_species_name\", StringType(), True),\n",
    "    StructField(\"comun_species_name\", StringType(), True),\n",
    "    StructField(\"steward\", StringType(), True),\n",
    "    StructField(\"guards\", StringType(), True),\n",
    "    StructField(\"sidewalk\", StringType(), True),\n",
    "    StructField(\"user_type\", StringType(), True),\n",
    "    StructField(\"problems\", StringType(), True),\n",
    "    StructField(\"problems_root_stone\", StringType(), True),\n",
    "    StructField(\"problems_root_grate\", StringType(), True),\n",
    "    StructField(\"problems_root_other\", StringType(), True),\n",
    "    StructField(\"problems_trunk_wire\", StringType(), True),\n",
    "    StructField(\"problems_trunk_light\", StringType(), True),\n",
    "    StructField(\"problems_trunk_other\", StringType(), True),\n",
    "    StructField(\"problems_branch_light\", StringType(), True),\n",
    "    StructField(\"problems_branch_shoe\", StringType(), True),\n",
    "    StructField(\"problems_branch_other\", StringType(), True),\n",
    "    StructField(\"address\", StringType(), True),\n",
    "    StructField(\"zipcode\", IntegerType(), True),\n",
    "    StructField(\"zip_city\", StringType(), True),\n",
    "    StructField(\"cb_num\", IntegerType(), True),\n",
    "    StructField(\"borocode\", IntegerType(), True),\n",
    "    StructField(\"boroname\", StringType(), True),\n",
    "    StructField(\"cncldist\", IntegerType(), True),\n",
    "    StructField(\"ct_assem\", IntegerType(), True),\n",
    "     StructField(\"ct_senate\", IntegerType(), True),\n",
    "     StructField(\"nta\", StringType(), True),\n",
    "     StructField(\"nta_name\", StringType(), True),\n",
    "     StructField(\"boro_ct\", IntegerType(), True),\n",
    "     StructField(\"state\", StringType(), True),\n",
    "    StructField(\"latitude\", StringType(), True),\n",
    "    StructField(\"longitude\", StringType(), True),\n",
    "    StructField(\"x_sp\", StringType(), True),\n",
    "    StructField(\"y_sp\", StringType(), True)\n",
    "])\n",
    "\n",
    "episodes = spark \\\n",
    "            .read\\\n",
    "            .option(\"delimiter\",\",\")\\\n",
    "            .option(\"header\",\"true\")\\\n",
    "            .schema(customSchema) \\\n",
    "            .csv(hdfs_path)"
   ]
  },
  {
   "cell_type": "code",
   "execution_count": 5,
   "id": "898a623e",
   "metadata": {},
   "outputs": [],
   "source": [
    "# Escolho as colunas que quero\n",
    "arvores2015 = episodes.select(\"tree_id\",\"year\",\"address\",\"tree_diameter\",\"health\",\"latin_species_name\",\"comun_species_name\",\"boroname\",\"borocode\",\"state\",\"sidewalk\",\"problems_trunk_light\",\"problems_trunk_wire\",\"problems_trunk_other\",\"problems_root_stone\",\"problems_root_grate\",\"problems_root_other\",\"problems_branch_light\",\"problems_branch_shoe\",\"problems_branch_other\",\"user_type\",\"status\")"
   ]
  },
  {
   "cell_type": "code",
   "execution_count": 6,
   "id": "waiting-amazon",
   "metadata": {},
   "outputs": [],
   "source": [
    "# alterei todos os dados da coluna ano para 2015\n",
    "arvores2015 = arvores2015.withColumn(\"year\", lit(2015))\n"
   ]
  },
  {
   "cell_type": "code",
   "execution_count": 7,
   "id": "7d25a98d-f5b2-41ba-a774-b30b99800459",
   "metadata": {},
   "outputs": [],
   "source": [
    "#Cria a coluna Problems_Trunk_general\n",
    "arvores2015 = arvores2015.withColumn(\"problems_trunk_general\", lit(\"No\"))\n",
    "arvores2015 = arvores2015.withColumn(\"problems_trunk_general\", when(arvores2015.problems_trunk_wire == \"Yes\",\"Yes\") \\\n",
    "      .when(arvores2015.problems_trunk_light == \"Yes\",\"Yes\") \\\n",
    "      .when(arvores2015.problems_trunk_other == \"Yes\",\"Yes\") \\\n",
    "      .otherwise(arvores2015.problems_trunk_general))"
   ]
  },
  {
   "cell_type": "code",
   "execution_count": 8,
   "id": "dde094d3-cb06-4915-92e3-acca7c33dfb0",
   "metadata": {},
   "outputs": [],
   "source": [
    "#Cria a coluna Problems_wires_general\n",
    "arvores2015 = arvores2015.withColumn(\"problems_wires_general\", lit(\"No\"))\n",
    "arvores2015 = arvores2015.withColumn(\"problems_wires_general\", when(arvores2015.problems_trunk_wire == \"Yes\",\"Yes\") \\\n",
    "      .otherwise(arvores2015.problems_wires_general))"
   ]
  },
  {
   "cell_type": "code",
   "execution_count": 9,
   "id": "fcd3daa9-8de5-4bb9-84c2-5199f630394d",
   "metadata": {},
   "outputs": [],
   "source": [
    "#Cria a coluna problemas na rama com as linhas todas a No\n",
    "arvores2015 = arvores2015.withColumn(\"problems_lights_general\", lit(\"No\"))\n",
    "#arvores2015.show()"
   ]
  },
  {
   "cell_type": "code",
   "execution_count": 10,
   "id": "da80cd1a-9649-4869-a2f7-072c77a99fa5",
   "metadata": {},
   "outputs": [],
   "source": [
    "#Cria a coluna Problems_lights_general\n",
    "arvores2015 = arvores2015.withColumn(\"problems_lights_general\", lit(\"No\"))\n",
    "arvores2015 = arvores2015.withColumn(\"problems_lights_general\", when(arvores2015.problems_trunk_light == \"Yes\",\"Yes\") \\\n",
    "      .when(arvores2015.problems_branch_light == \"Yes\",\"Yes\") \\\n",
    "      .otherwise(arvores2015.problems_lights_general))"
   ]
  },
  {
   "cell_type": "code",
   "execution_count": 11,
   "id": "59540be6-99e5-4192-abfa-3b90a4b4509f",
   "metadata": {},
   "outputs": [],
   "source": [
    "#Cria a coluna Problems_shoes_general\n",
    "arvores2015 = arvores2015.withColumn(\"problems_shoes_general\", lit(\"No\"))\n",
    "arvores2015 = arvores2015.withColumn(\"problems_shoes_general\", when(arvores2015.problems_branch_shoe == \"Yes\",\"Yes\") \\\n",
    "      .otherwise(arvores2015.problems_shoes_general))"
   ]
  },
  {
   "cell_type": "code",
   "execution_count": 12,
   "id": "c32a53bb-c3e2-4ecb-b285-6edb2976a464",
   "metadata": {},
   "outputs": [],
   "source": [
    "#Cria a coluna Problems_guard_general\n",
    "arvores2015 = arvores2015.withColumn(\"problems_guard_general\", lit(\"No\"))\n",
    "arvores2015 = arvores2015.withColumn(\"problems_guard_general\", when(arvores2015.problems_root_grate == \"Yes\",\"Yes\") \\\n",
    "      .otherwise(arvores2015.problems_guard_general))"
   ]
  },
  {
   "cell_type": "code",
   "execution_count": 13,
   "id": "163a693e-33a1-4908-b503-dc12a47cccc2",
   "metadata": {},
   "outputs": [],
   "source": [
    "#Cria a coluna Problems_outlet_general\n",
    "arvores2015 = arvores2015.withColumn(\"problems_outlet_general\", lit(\"Unknown\"))\n"
   ]
  },
  {
   "cell_type": "code",
   "execution_count": 14,
   "id": "3c5339fe-1e74-4caa-be48-66df9f4cc30b",
   "metadata": {},
   "outputs": [],
   "source": [
    "#Cria a coluna Problems_paving_general\n",
    "arvores2015 = arvores2015.withColumn(\"problems_paving_general\", lit(\"Unknown\"))"
   ]
  },
  {
   "cell_type": "code",
   "execution_count": 15,
   "id": "7dcb227c-876b-4367-b54d-fb44d61a5df5",
   "metadata": {},
   "outputs": [],
   "source": [
    "#Cria a coluna Problems_canopy_general\n",
    "arvores2015 = arvores2015.withColumn(\"problems_canopy_general\", lit(\"Unknown\"))"
   ]
  },
  {
   "cell_type": "code",
   "execution_count": 16,
   "id": "5075b42e-27ea-46eb-9350-280ecdbde97c",
   "metadata": {},
   "outputs": [],
   "source": [
    "#Healht null/\"\"/None\n",
    "arvores2015 = arvores2015.withColumn(\"health\", when(arvores2015.health == \"\",\"Unknown\") \\\n",
    "      .when(arvores2015.health == None,\"Unknown\") \\\n",
    "      .when(arvores2015.status == \"Dead\",\"Dead\") \\\n",
    "      .otherwise(arvores2015.health))\n",
    "arvores2015 = arvores2015.na.fill(\"Unknown\",[\"health\"])"
   ]
  },
  {
   "cell_type": "code",
   "execution_count": 17,
   "id": "45abd1e5-8343-46a8-a521-2d7dcbdefd95",
   "metadata": {},
   "outputs": [],
   "source": [
    "#Sidewalk null/\"\"/None\n",
    "arvores2015 = arvores2015.withColumn(\"sidewalk\", when(arvores2015.sidewalk == \"\",\"Unknown\") \\\n",
    "      .when(arvores2015.sidewalk == None,\"Unknown\") \\\n",
    "      .otherwise(arvores2015.sidewalk))\n",
    "arvores2015 = arvores2015.na.fill(\"Unknown\",[\"sidewalk\"])"
   ]
  },
  {
   "cell_type": "code",
   "execution_count": 18,
   "id": "c6366df1-f094-4fb7-8156-d1cd9493e998",
   "metadata": {},
   "outputs": [],
   "source": [
    "#Latin_Species_Name null/\"\"/None\n",
    "arvores2015 = arvores2015.withColumn(\"latin_species_name\", when(arvores2015.latin_species_name == \"\",\"Unknown\") \\\n",
    "      .when(arvores2015.latin_species_name == None,\"Unknown\") \\\n",
    "      .otherwise(arvores2015.latin_species_name))\n",
    "arvores2015 = arvores2015.na.fill(\"Unknown\",[\"latin_species_name\"])"
   ]
  },
  {
   "cell_type": "code",
   "execution_count": 19,
   "id": "ea06b4b8-788a-44d3-979b-e892b4ebe9d9",
   "metadata": {},
   "outputs": [],
   "source": [
    "#Comun_Species_Name null/\"\"/None\n",
    "arvores2015 = arvores2015.withColumn(\"comun_species_name\", when(arvores2015.comun_species_name == \"\",\"Unknown\") \\\n",
    "      .when(arvores2015.comun_species_name == None,\"Unknown\") \\\n",
    "      .otherwise(arvores2015.comun_species_name))\n",
    "arvores2015 = arvores2015.na.fill(\"Unknown\",[\"comun_species_name\"])"
   ]
  },
  {
   "cell_type": "code",
   "execution_count": 20,
   "id": "c2336d5c-260e-4749-9793-a4b0091e10cf",
   "metadata": {},
   "outputs": [
    {
     "name": "stdout",
     "output_type": "stream",
     "text": [
      "+-------+\n",
      "| health|\n",
      "+-------+\n",
      "|   Dead|\n",
      "|   Good|\n",
      "|Unknown|\n",
      "|   Fair|\n",
      "|   Poor|\n",
      "+-------+\n",
      "\n"
     ]
    }
   ],
   "source": [
    "arvores2015.createOrReplaceTempView(\"episodes\")\n",
    "\n",
    "sqlized_df = spark.sql(\n",
    "    \"\"\"\n",
    "    SELECT Distinct health\n",
    "    FROM episodes\n",
    "    \"\"\"\n",
    ")\n",
    "\n",
    "sqlized_df.show()"
   ]
  },
  {
   "cell_type": "code",
   "execution_count": 21,
   "id": "eccaedb6-a42c-4f2a-879f-1d56cd02afd4",
   "metadata": {},
   "outputs": [],
   "source": [
    "#Carregar o dataset arvores 2005\n",
    "hdfs_path2 = \"hdfs://hdfs-nn:9000/AreasVerdes/bronze/arvores_csv/arvores2005.csv\"\n",
    "customSchema = StructType([\n",
    "    StructField(\"tree_id\", IntegerType(), True),        \n",
    "    StructField(\"year\", IntegerType(), True),\n",
    "    StructField(\"tree_diameter\", IntegerType(), True),\n",
    "    StructField(\"address\", StringType(), True),\n",
    "    StructField(\"tree_loc\", StringType(), True),\n",
    "    StructField(\"pit_type\", StringType(), True),\n",
    "    StructField(\"soil_lvl\", StringType(), True),\n",
    "    StructField(\"health\", StringType(), True),\n",
    "     StructField(\"latin_species_name\", StringType(), True),\n",
    "    StructField(\"comun_species_name\", StringType(), True),\n",
    "    StructField(\"vert_other\", StringType(), True),\n",
    "    StructField(\"vert_pgrd\", StringType(), True),\n",
    "    StructField(\"vert_tgrd\", StringType(), True),\n",
    "    StructField(\"vert_wall\", StringType(), True),\n",
    "    StructField(\"Horz_blck\", StringType(), True),\n",
    "    StructField(\"Horz_grate\", StringType(), True),\n",
    "    StructField(\"Horz_plant\", StringType(), True),\n",
    "    StructField(\"Horz_other\", StringType(), True),\n",
    "    StructField(\"sidw_crack\", StringType(), True),\n",
    "    StructField(\"sidw_raise\", StringType(), True),\n",
    "    StructField(\"wire_htap\", StringType(), True),\n",
    "    StructField(\"wire_prime\", StringType(), True),\n",
    "    StructField(\"wire_2nd\", StringType(), True),\n",
    "    StructField(\"wire_other\", StringType(), True),\n",
    "    StructField(\"problems_canopy_general\", StringType(), True),\n",
    "    StructField(\"problems_guard_general\", StringType(), True),\n",
    "    StructField(\"problems_wires_general\", StringType(), True),\n",
    "    StructField(\"problems_paving_general\", StringType(), True),\n",
    "    StructField(\"problems_outlet_general\", StringType(), True),\n",
    "    StructField(\"problems_shoes_general\", StringType(), True),\n",
    "    StructField(\"problems_lights_general\", StringType(), True),\n",
    "     StructField(\"problems_other_g\", StringType(), True),\n",
    "    StructField(\"problems_trunk_general\", StringType(), True),\n",
    "    StructField(\"zipcode\", IntegerType(), True),\n",
    "    StructField(\"zip_city\", StringType(), True),\n",
    "    StructField(\"cb_num\", IntegerType(), True),\n",
    "    StructField(\"borocode\", IntegerType(), True),\n",
    "    StructField(\"boroname\", StringType(), True),\n",
    "    StructField(\"cncldist\", IntegerType(), True),\n",
    "    StructField(\"ct_assem\", IntegerType(), True),\n",
    "     StructField(\"ct_senate\", IntegerType(), True),\n",
    "     StructField(\"nta\", StringType(), True),\n",
    "     StructField(\"nta_name\", StringType(), True),\n",
    "     StructField(\"boro_ct\", IntegerType(), True),\n",
    "     StructField(\"State\", StringType(), True),\n",
    "    StructField(\"Latitude\", StringType(), True),\n",
    "    StructField(\"longitude\", StringType(), True),\n",
    "    StructField(\"x_sp\", StringType(), True),\n",
    "    StructField(\"y_sp\", StringType(), True),\n",
    "     StructField(\"obectid_1\", StringType(), True),\n",
    "     StructField(\"census_tract\", StringType(), True),\n",
    "     StructField(\"bin\", StringType(), True),\n",
    "     StructField(\"bbl\", StringType(), True),\n",
    "     StructField(\"locatiom_1\", StringType(), True),\n",
    "])\n",
    "\n",
    "arvores2005 = spark \\\n",
    "            .read\\\n",
    "            .option(\"delimiter\",\",\")\\\n",
    "            .option(\"header\",\"true\")\\\n",
    "            .schema(customSchema) \\\n",
    "            .csv(hdfs_path2)"
   ]
  },
  {
   "cell_type": "code",
   "execution_count": 22,
   "id": "0705ecdc-e78d-4698-9b73-f7d77a75c41d",
   "metadata": {},
   "outputs": [],
   "source": [
    "#Escolho as colunas que quero\n",
    "arvores2005 = arvores2005.select(\"tree_id\",\"year\",\"address\",\"tree_diameter\",\"health\",\"latin_species_name\",\"comun_species_name\",\"boroname\",\"borocode\",\"state\", \"sidw_crack\", \"sidw_raise\",\"problems_canopy_general\",\"problems_guard_general\",\"problems_wires_general\",\"problems_paving_general\",\"problems_outlet_general\",\"problems_shoes_general\",\"problems_lights_general\",\"problems_trunk_general\")"
   ]
  },
  {
   "cell_type": "code",
   "execution_count": 23,
   "id": "7c761855-a0a8-4239-a6fe-6a61ff9c8a4a",
   "metadata": {},
   "outputs": [],
   "source": [
    "# Coluna Boroname 5= Staten island/ 0 = não temos informação / null = não temos informação\n",
    "arvores2005 = arvores2005.withColumn(\"boroname\", when(arvores2005.boroname == \"0\",\"Unknown\") \\\n",
    "      .when(arvores2005.boroname == \"5\",\"Staten Island\") \\\n",
    "      .otherwise(arvores2005.boroname))\n",
    "arvores2005 = arvores2005.na.fill(\"Unknown\",[\"boroname\"])"
   ]
  },
  {
   "cell_type": "code",
   "execution_count": 24,
   "id": "17250081-1860-4770-bb88-d2c5e274e791",
   "metadata": {},
   "outputs": [],
   "source": [
    "# Borocode null = 0\n",
    "arvores2005 = arvores2005.na.fill(0,[\"borocode\"])"
   ]
  },
  {
   "cell_type": "code",
   "execution_count": 25,
   "id": "ebc334c1-9020-4742-8fce-550999f2857e",
   "metadata": {},
   "outputs": [],
   "source": [
    "# Nesta coluna aparecia o ano 2006// como não é relevante para o estudo o ano ser 2005 ou 2006 converti tudo para 2005\n",
    "arvores2005 = arvores2005.withColumn(\"year\", lit(2005))"
   ]
  },
  {
   "cell_type": "code",
   "execution_count": 26,
   "id": "47faab2b-280e-4327-ae5d-5f929f6bcf57",
   "metadata": {},
   "outputs": [],
   "source": [
    "# Coluna Health no= Não temos informação/ null = não temos informação\n",
    "arvores2005 = arvores2005.withColumn(\"health\", when(arvores2005.health == \"No\",\"Unknown\") \\\n",
    "      .when(arvores2005.health == \"Excellent\",\"Good\") \\\n",
    "      .otherwise(arvores2005.health))\n",
    "arvores2005 = arvores2005.na.fill(\"Unknown\",[\"health\"])"
   ]
  },
  {
   "cell_type": "code",
   "execution_count": 27,
   "id": "6d85d3b9-300c-4200-9d37-3044c7746cce",
   "metadata": {},
   "outputs": [],
   "source": [
    "# Coluna Latin_Species_Name null = \"Não temos informação\"\n",
    "arvores2005 = arvores2005.na.fill(\"Unknown\",[\"latin_species_name\"])"
   ]
  },
  {
   "cell_type": "code",
   "execution_count": 28,
   "id": "810bb89e-38b7-4f17-b1db-bde8b212c868",
   "metadata": {},
   "outputs": [],
   "source": [
    "# Coluna Latin_Comun_Name null = \"Não temos informação\"\n",
    "arvores2005 = arvores2005.na.fill(\"Unknown\",[\"comun_species_name\"])"
   ]
  },
  {
   "cell_type": "code",
   "execution_count": 29,
   "id": "8571588e-740d-46da-b140-00a5779571f1",
   "metadata": {},
   "outputs": [],
   "source": [
    "# Coluna State null = \"New York\" / 0 = \"New York\"\n",
    "arvores2005 = arvores2005.withColumn(\"state\", when(arvores2005.state == \"0\",\"New York\") \\\n",
    "      .otherwise(arvores2005.state))\n",
    "arvores2005 = arvores2005.na.fill(\"New York\",[\"state\"])"
   ]
  },
  {
   "cell_type": "code",
   "execution_count": 30,
   "id": "6afea4a6-be92-47b2-aa08-dd33662910d0",
   "metadata": {},
   "outputs": [],
   "source": [
    "#Coluna Sidw_crack + sidw_raise numa sócoluna Sidewalk // Yes = Damage / No = NoDamage\n",
    "arvores2005 = arvores2005.withColumn(\"sidewalk\", lit(\"NoDamage\"))\n",
    "arvores2005 = arvores2005.withColumn(\"sidewalk\", when(arvores2005.sidw_crack == \"Yes\",\"Damage\") \\\n",
    "      .when(arvores2005.sidw_raise == \"Yes\",\"Damage\") \\\n",
    "      .otherwise(arvores2005.sidewalk))"
   ]
  },
  {
   "cell_type": "code",
   "execution_count": 31,
   "id": "9b2fdc82-ce9b-4a5a-be66-00db4bfec548",
   "metadata": {},
   "outputs": [],
   "source": [
    "# Coluna Problems_canopy_general null = \"No\"\n",
    "arvores2005 = arvores2005.na.fill(\"No\",[\"problems_canopy_general\"])"
   ]
  },
  {
   "cell_type": "code",
   "execution_count": 32,
   "id": "acb9e651-08d7-4124-acca-512eb9683e0e",
   "metadata": {},
   "outputs": [],
   "source": [
    "# Coluna Problems_guard_general null = \"No\"\n",
    "arvores2005 = arvores2005.na.fill(\"No\",[\"problems_guard_general\"])"
   ]
  },
  {
   "cell_type": "code",
   "execution_count": 33,
   "id": "6e2dad08-a5c0-4dae-ab5a-e27506759031",
   "metadata": {},
   "outputs": [],
   "source": [
    "# Coluna Problems_wires_general null = \"No\"\n",
    "arvores2005 = arvores2005.na.fill(\"No\",[\"problems_wires_general\"])"
   ]
  },
  {
   "cell_type": "code",
   "execution_count": 34,
   "id": "445b8b79-3718-4600-8ccf-1c45949c968e",
   "metadata": {},
   "outputs": [],
   "source": [
    "# Coluna Problems_peving_general null = \"No\"\n",
    "arvores2005 = arvores2005.na.fill(\"No\",[\"problems_paving_general\"])"
   ]
  },
  {
   "cell_type": "code",
   "execution_count": 35,
   "id": "f75d64ff-b052-43d5-b104-e37d3002b6db",
   "metadata": {},
   "outputs": [],
   "source": [
    "# Coluna Problems_outlet_general null = \"No\" \n",
    "arvores2005 = arvores2005.na.fill(\"No\",[\"problems_outlet_general\"])"
   ]
  },
  {
   "cell_type": "code",
   "execution_count": 36,
   "id": "ae2c7646-a7ec-4409-a297-2e194fca8eae",
   "metadata": {},
   "outputs": [],
   "source": [
    "# Coluna Problems_shoes_general null = \"No\" // \"None\" = \"No\" \n",
    "arvores2005 = arvores2005.na.fill(\"No\",[\"problems_shoes_general\"])\n",
    "arvores2005 = arvores2005.withColumn(\"problems_shoes_general\", when(arvores2005.problems_shoes_general == \"Trunk Wound\",\"No\") \\\n",
    "      .when(arvores2005.problems_shoes_general == \"None\",\"No\") \\\n",
    "      .otherwise(arvores2005.problems_shoes_general))"
   ]
  },
  {
   "cell_type": "code",
   "execution_count": 37,
   "id": "c7eb54e3-1138-42dd-b36e-e10bdfb14f9e",
   "metadata": {},
   "outputs": [],
   "source": [
    "# Coluna Problems_lights_general null = \"No\" / 0 = \"No\"\n",
    "arvores2005 = arvores2005.na.fill(\"No\",[\"problems_lights_general\"])\n",
    "arvores2005 = arvores2005.withColumn(\"problems_lights_general\", when(arvores2005.problems_lights_general == \"0\",\"No\") \\\n",
    "      .otherwise(arvores2005.problems_lights_general))"
   ]
  },
  {
   "cell_type": "code",
   "execution_count": 38,
   "id": "b56d858b-f87a-43f2-b7da-6fdbc4e78b51",
   "metadata": {},
   "outputs": [],
   "source": [
    "# Coluna Problems_Trunk_general null = \"No\" // \"None\" = \"No\" // Torn Bark == yes // cavity = yes / trunk wound = yes\n",
    "arvores2005 = arvores2005.na.fill(\"No\",[\"problems_trunk_general\"])\n",
    "arvores2005 = arvores2005.withColumn(\"problems_trunk_general\", when(arvores2005.problems_trunk_general == \"0\",\"No\") \\\n",
    "      .when(arvores2005.problems_trunk_general == \"None\",\"No\") \\\n",
    "      .when(arvores2005.problems_trunk_general == \"Torn Bark\",\"Yes\") \\\n",
    "      .when(arvores2005.problems_trunk_general == \"Cavity\",\"Yes\") \\\n",
    "      .when(arvores2005.problems_trunk_general == \"Trunk Wound\",\"Yes\") \\\n",
    "      .otherwise(arvores2005.problems_trunk_general))"
   ]
  },
  {
   "cell_type": "code",
   "execution_count": 39,
   "id": "092dc118-cf63-4b2d-9b0e-b80465894f5e",
   "metadata": {},
   "outputs": [],
   "source": [
    "#Cria as colunas que estão presentes nas outras tabelas\n",
    "arvores2005 = arvores2005.withColumn(\"problems_trunk_light\", lit(\"Unknown\"))\n",
    "arvores2005 = arvores2005.withColumn(\"problems_trunk_wire\", lit(\"Unknown\"))\n",
    "arvores2005 = arvores2005.withColumn(\"problems_trunk_other\", lit(\"Unknown\"))\n",
    "arvores2005 = arvores2005.withColumn(\"problems_root_stone\", lit(\"Unknown\"))\n",
    "arvores2005 = arvores2005.withColumn(\"problems_root_grate\", lit(\"Unknown\"))\n",
    "arvores2005 = arvores2005.withColumn(\"problems_root_other\", lit(\"Unknown\"))\n",
    "arvores2005 = arvores2005.withColumn(\"problems_branch_light\", lit(\"Unknown\"))\n",
    "arvores2005 = arvores2005.withColumn(\"problems_branch_shoe\", lit(\"Unknown\"))\n",
    "arvores2005 = arvores2005.withColumn(\"problems_branch_other\", lit(\"Unknown\"))\n",
    "arvores2005 = arvores2005.withColumn(\"user_type\", lit(\"Unknown\"))"
   ]
  },
  {
   "cell_type": "code",
   "execution_count": 40,
   "id": "4623145c-407d-4671-9712-43dce95013bd",
   "metadata": {},
   "outputs": [
    {
     "name": "stdout",
     "output_type": "stream",
     "text": [
      "root\n",
      " |-- tree_id: integer (nullable = true)\n",
      " |-- year: integer (nullable = false)\n",
      " |-- address: string (nullable = true)\n",
      " |-- tree_diameter: integer (nullable = true)\n",
      " |-- health: string (nullable = false)\n",
      " |-- latin_species_name: string (nullable = false)\n",
      " |-- comun_species_name: string (nullable = false)\n",
      " |-- boroname: string (nullable = false)\n",
      " |-- borocode: integer (nullable = true)\n",
      " |-- state: string (nullable = false)\n",
      " |-- sidw_crack: string (nullable = true)\n",
      " |-- sidw_raise: string (nullable = true)\n",
      " |-- problems_canopy_general: string (nullable = false)\n",
      " |-- problems_guard_general: string (nullable = false)\n",
      " |-- problems_wires_general: string (nullable = false)\n",
      " |-- problems_paving_general: string (nullable = false)\n",
      " |-- problems_outlet_general: string (nullable = false)\n",
      " |-- problems_shoes_general: string (nullable = false)\n",
      " |-- problems_lights_general: string (nullable = false)\n",
      " |-- problems_trunk_general: string (nullable = false)\n",
      " |-- sidewalk: string (nullable = false)\n",
      " |-- problems_trunk_light: string (nullable = false)\n",
      " |-- problems_trunk_wire: string (nullable = false)\n",
      " |-- problems_trunk_other: string (nullable = false)\n",
      " |-- problems_root_stone: string (nullable = false)\n",
      " |-- problems_root_grate: string (nullable = false)\n",
      " |-- problems_root_other: string (nullable = false)\n",
      " |-- problems_branch_light: string (nullable = false)\n",
      " |-- problems_branch_shoe: string (nullable = false)\n",
      " |-- problems_branch_other: string (nullable = false)\n",
      " |-- user_type: string (nullable = false)\n",
      "\n"
     ]
    }
   ],
   "source": [
    "arvores2005.printSchema()"
   ]
  },
  {
   "cell_type": "code",
   "execution_count": 41,
   "id": "4bd692b9-0dbd-4a82-8b21-25be34171951",
   "metadata": {},
   "outputs": [],
   "source": [
    "#Carrega o dataset arvores1995\n",
    "hdfs_path3 = \"hdfs://hdfs-nn:9000/AreasVerdes/bronze/arvores_csv/arvores1995.csv\"\n",
    "customSchema = StructType([\n",
    "    StructField(\"tree_id\", IntegerType(), True),        \n",
    "    StructField(\"address\", StringType(), True),\n",
    "    StructField(\"House_Number\", IntegerType(), True),\n",
    "    StructField(\"Street\", StringType(), True),\n",
    "    StructField(\"Postcode\", StringType(), True),\n",
    "    StructField(\"Community_Board\", StringType(), True),\n",
    "    StructField(\"Site\", StringType(), True),\n",
    "    StructField(\"Species\", StringType(), True),\n",
    "    StructField(\"tree_diameter\", IntegerType(), True),\n",
    "    StructField(\"health\", StringType(), True),\n",
    "    StructField(\"Wires\", StringType(), True),\n",
    "    StructField(\"sidewalk\", StringType(), True),\n",
    "    StructField(\"Support_Structure\", StringType(), True),\n",
    "    StructField(\"boroname\", StringType(), True),\n",
    "    StructField(\"X\", StringType(), True),\n",
    "    StructField(\"Y\", StringType(), True),\n",
    "    StructField(\"Longitude\", StringType(), True),\n",
    "    StructField(\"Latitude\", StringType(), True),\n",
    "    StructField(\"cb_new\", StringType(), True),\n",
    "    StructField(\"zip_new\", StringType(), True),\n",
    "    StructField(\"censusTract\", StringType(), True),\n",
    "    StructField(\"censusBlock\", StringType(), True),\n",
    "    StructField(\"Nta_2010\", StringType(), True),\n",
    "    StructField(\"SegmentID\", StringType(), True),\n",
    "    StructField(\"comun_species_name\", StringType(), True),\n",
    "    StructField(\"latin_species_name\", StringType(), True),\n",
    "    StructField(\"location\", StringType(), True),\n",
    "    StructField(\"council_district\", StringType(), True),\n",
    "    StructField(\"bin\", StringType(), True),\n",
    "    StructField(\"BBl\", StringType(), True),\n",
    "    StructField(\"Zip_codes\", StringType(), True),\n",
    "     StructField(\"Community_districts\", StringType(), True),\n",
    "    StructField(\"Borough_boundaries\", StringType(), True),\n",
    "    StructField(\"city_council\", StringType(), True),\n",
    "    StructField(\"Police_Precints\", StringType(), True),\n",
    "])\n",
    "\n",
    "arvores1995 = spark \\\n",
    "            .read\\\n",
    "            .option(\"delimiter\",\",\")\\\n",
    "            .option(\"header\",\"true\")\\\n",
    "            .schema(customSchema) \\\n",
    "            .csv(hdfs_path3)"
   ]
  },
  {
   "cell_type": "code",
   "execution_count": 42,
   "id": "7ee3c0b0-116b-4203-b91f-856fc813e2f3",
   "metadata": {},
   "outputs": [],
   "source": [
    "#Apenas as colunas que quero\n",
    "arvores1995 = arvores1995.select(\"tree_id\",\"address\",\"tree_diameter\",\"health\",\"sidewalk\",\"boroname\",\"comun_species_name\",\"latin_species_name\")"
   ]
  },
  {
   "cell_type": "code",
   "execution_count": 43,
   "id": "b63c647e-2843-4a1b-9d77-11e5ec3f7bee",
   "metadata": {},
   "outputs": [],
   "source": [
    "# Coluna Health Excellent = Good / Critical,Shaft,Stump = Poor / Unknown, Planting Space = Não temos informação\n",
    "arvores1995 = arvores1995.withColumn(\"health\", when(arvores1995.health == \"Excellent\",\"Good\") \\\n",
    "      .when(arvores1995.health == \"Critical\",\"Poor\") \\\n",
    "      .when(arvores1995.health == \"Shaft\",\"Poor\") \\\n",
    "      .when(arvores1995.health == \"Stump\",\"Poor\") \\\n",
    "      .when(arvores1995.health == \"Unknown\",\"Unknown\") \\\n",
    "      .when(arvores1995.health == \"Planting Space\", \"Unknown\") \\\n",
    "      .otherwise(arvores1995.health))"
   ]
  },
  {
   "cell_type": "code",
   "execution_count": 44,
   "id": "070937f7-29fb-4759-a7e4-df1321ff9b18",
   "metadata": {},
   "outputs": [],
   "source": [
    "# Coluna Sidewalk Na = Não temos informação / good = nodamge / raised = damage\n",
    "arvores1995 = arvores1995.withColumn(\"sidewalk\", when(arvores1995.sidewalk == \"NA\",\"Unknown\") \\\n",
    "      .when(arvores1995.sidewalk == \"Good\",\"NoDamage\") \\\n",
    "      .when(arvores1995.sidewalk == \"Raised\",\"Damage\") \\\n",
    "      .otherwise(arvores1995.sidewalk))"
   ]
  },
  {
   "cell_type": "code",
   "execution_count": 45,
   "id": "b0346bca-028d-48ab-a6f2-755c9427c784",
   "metadata": {},
   "outputs": [],
   "source": [
    "# Cria Coluna Borocode esta coluna contem um numero que representa o bairro \n",
    "arvores1995 = arvores1995.withColumn(\"borocode\", lit(1))\n",
    "arvores1995 = arvores1995.withColumn(\"borocode\", when(arvores1995.boroname == \"Queens\",4) \\\n",
    "      .when(arvores1995.boroname == \"Brooklyn\",3) \\\n",
    "      .when(arvores1995.boroname == \"Manhattan\",1) \\\n",
    "      .when(arvores1995.boroname == \"Bronx\",2) \\\n",
    "      .when(arvores1995.boroname == \"Staten Island\",5) \\\n",
    "      .otherwise(arvores1995.borocode))"
   ]
  },
  {
   "cell_type": "code",
   "execution_count": 46,
   "id": "0086ed63-47bb-4bcd-8677-0839cb2f6d02",
   "metadata": {},
   "outputs": [],
   "source": [
    "# Cria as colunas das outras tabelas\n",
    "arvores1995 = arvores1995.withColumn(\"year\", lit(1995))\n",
    "arvores1995 = arvores1995.withColumn(\"state\", lit(\"New York\"))\n",
    "arvores1995 = arvores1995.withColumn(\"problems_canopy_general\", lit(\"Unknown\"))\n",
    "arvores1995 = arvores1995.withColumn(\"problems_guard_general\", lit(\"Unknown\"))\n",
    "arvores1995 = arvores1995.withColumn(\"problems_wires_general\", lit(\"Unknown\"))\n",
    "arvores1995 = arvores1995.withColumn(\"problems_paving_general\", lit(\"Unknown\"))\n",
    "arvores1995 = arvores1995.withColumn(\"problems_outlet_general\", lit(\"Unknown\"))\n",
    "arvores1995 = arvores1995.withColumn(\"problems_shoes_general\", lit(\"Unknown\"))\n",
    "arvores1995 = arvores1995.withColumn(\"problems_lights_general\", lit(\"Unknown\"))\n",
    "arvores1995 = arvores1995.withColumn(\"problems_trunk_general\", lit(\"Unknown\"))\n",
    "arvores1995 = arvores1995.withColumn(\"problems_trunk_light\", lit(\"Unknown\"))\n",
    "arvores1995 = arvores1995.withColumn(\"problems_trunk_wire\", lit(\"Unknown\"))\n",
    "arvores1995 = arvores1995.withColumn(\"problems_trunk_other\", lit(\"Unknown\"))\n",
    "arvores1995 = arvores1995.withColumn(\"problems_root_stone\", lit(\"Unknown\"))\n",
    "arvores1995 = arvores1995.withColumn(\"problems_root_grate\", lit(\"Unknown\"))\n",
    "arvores1995 = arvores1995.withColumn(\"problems_root_other\", lit(\"Unknown\"))\n",
    "arvores1995 = arvores1995.withColumn(\"problems_branch_light\", lit(\"Unknown\"))\n",
    "arvores1995 = arvores1995.withColumn(\"problems_branch_shoe\", lit(\"Unknown\"))\n",
    "arvores1995 = arvores1995.withColumn(\"problems_branch_other\", lit(\"Unknown\"))\n",
    "arvores1995 = arvores1995.withColumn(\"user_type\", lit(\"Unknown\"))"
   ]
  },
  {
   "cell_type": "code",
   "execution_count": 47,
   "id": "90555dc0-88b5-4c26-9048-05fee241fcbe",
   "metadata": {},
   "outputs": [
    {
     "name": "stdout",
     "output_type": "stream",
     "text": [
      "root\n",
      " |-- tree_id: integer (nullable = true)\n",
      " |-- year: integer (nullable = false)\n",
      " |-- state: string (nullable = false)\n",
      " |-- address: string (nullable = true)\n",
      " |-- boroname: string (nullable = true)\n",
      " |-- borocode: integer (nullable = false)\n",
      " |-- latin_species_name: string (nullable = true)\n",
      " |-- comun_species_name: string (nullable = true)\n",
      " |-- health: string (nullable = true)\n",
      " |-- tree_diameter: integer (nullable = true)\n",
      " |-- sidewalk: string (nullable = true)\n",
      " |-- problems_canopy_general: string (nullable = false)\n",
      " |-- problems_guard_general: string (nullable = false)\n",
      " |-- problems_wires_general: string (nullable = false)\n",
      " |-- problems_paving_general: string (nullable = false)\n",
      " |-- problems_outlet_general: string (nullable = false)\n",
      " |-- problems_shoes_general: string (nullable = false)\n",
      " |-- problems_lights_general: string (nullable = false)\n",
      " |-- problems_trunk_general: string (nullable = false)\n",
      " |-- problems_trunk_light: string (nullable = false)\n",
      " |-- problems_trunk_wire: string (nullable = false)\n",
      " |-- problems_trunk_other: string (nullable = false)\n",
      " |-- problems_root_stone: string (nullable = false)\n",
      " |-- problems_root_grate: string (nullable = false)\n",
      " |-- problems_root_other: string (nullable = false)\n",
      " |-- problems_branch_light: string (nullable = false)\n",
      " |-- problems_branch_shoe: string (nullable = false)\n",
      " |-- problems_branch_other: string (nullable = false)\n",
      " |-- user_type: string (nullable = false)\n",
      "\n"
     ]
    }
   ],
   "source": [
    "#Seleciono as colunas que quero nas arvores 1995\n",
    "arvores1995_Guardar = arvores1995.select(\"tree_id\",\"year\",\"state\",\"address\",\"boroname\",\"borocode\",\"latin_species_name\",\"comun_species_name\",\"health\",\"tree_diameter\",\"sidewalk\",\"problems_canopy_general\",\"problems_guard_general\",\"problems_wires_general\",\"problems_paving_general\",\"problems_outlet_general\",\"problems_shoes_general\",\"problems_lights_general\",\"problems_trunk_general\",\"problems_trunk_light\",\"problems_trunk_wire\",\"problems_trunk_other\",\"problems_root_stone\",\"problems_root_grate\",\"problems_root_other\", \"problems_branch_light\", \"problems_branch_shoe\",\"problems_branch_other\", \"user_type\")\n",
    "arvores1995_Guardar.printSchema()"
   ]
  },
  {
   "cell_type": "code",
   "execution_count": 48,
   "id": "e1eef244-5cc1-45b6-aacb-cd886eaf5aab",
   "metadata": {},
   "outputs": [
    {
     "name": "stdout",
     "output_type": "stream",
     "text": [
      "root\n",
      " |-- tree_id: integer (nullable = true)\n",
      " |-- year: integer (nullable = false)\n",
      " |-- state: string (nullable = false)\n",
      " |-- address: string (nullable = true)\n",
      " |-- boroname: string (nullable = false)\n",
      " |-- borocode: integer (nullable = true)\n",
      " |-- latin_species_name: string (nullable = false)\n",
      " |-- comun_species_name: string (nullable = false)\n",
      " |-- health: string (nullable = false)\n",
      " |-- tree_diameter: integer (nullable = true)\n",
      " |-- sidewalk: string (nullable = false)\n",
      " |-- problems_canopy_general: string (nullable = false)\n",
      " |-- problems_guard_general: string (nullable = false)\n",
      " |-- problems_wires_general: string (nullable = false)\n",
      " |-- problems_paving_general: string (nullable = false)\n",
      " |-- problems_outlet_general: string (nullable = false)\n",
      " |-- problems_shoes_general: string (nullable = false)\n",
      " |-- problems_lights_general: string (nullable = false)\n",
      " |-- problems_trunk_general: string (nullable = false)\n",
      " |-- problems_trunk_light: string (nullable = false)\n",
      " |-- problems_trunk_wire: string (nullable = false)\n",
      " |-- problems_trunk_other: string (nullable = false)\n",
      " |-- problems_root_stone: string (nullable = false)\n",
      " |-- problems_root_grate: string (nullable = false)\n",
      " |-- problems_root_other: string (nullable = false)\n",
      " |-- problems_branch_light: string (nullable = false)\n",
      " |-- problems_branch_shoe: string (nullable = false)\n",
      " |-- problems_branch_other: string (nullable = false)\n",
      " |-- user_type: string (nullable = false)\n",
      "\n"
     ]
    }
   ],
   "source": [
    "#Seleciono as colunas que quero nas arvores 2005\n",
    "arvores2005_Guardar = arvores2005.select(\"tree_id\",\"year\",\"state\",\"address\",\"boroname\",\"borocode\",\"latin_species_name\",\"comun_species_name\",\"health\",\"tree_diameter\",\"sidewalk\",\"problems_canopy_general\",\"problems_guard_general\",\"problems_wires_general\",\"problems_paving_general\",\"problems_outlet_general\",\"problems_shoes_general\",\"problems_lights_general\",\"problems_trunk_general\",\"problems_trunk_light\",\"problems_trunk_wire\",\"problems_trunk_other\",\"problems_root_stone\",\"problems_root_grate\",\"problems_root_other\", \"problems_branch_light\", \"problems_branch_shoe\",\"problems_branch_other\", \"user_type\")\n",
    "arvores2005_Guardar.printSchema()"
   ]
  },
  {
   "cell_type": "code",
   "execution_count": 49,
   "id": "04baba41-7c5c-4bf9-9cef-4219caf3a8c3",
   "metadata": {},
   "outputs": [
    {
     "name": "stdout",
     "output_type": "stream",
     "text": [
      "root\n",
      " |-- tree_id: integer (nullable = true)\n",
      " |-- year: integer (nullable = false)\n",
      " |-- state: string (nullable = true)\n",
      " |-- address: string (nullable = true)\n",
      " |-- boroname: string (nullable = true)\n",
      " |-- borocode: integer (nullable = true)\n",
      " |-- latin_species_name: string (nullable = false)\n",
      " |-- comun_species_name: string (nullable = false)\n",
      " |-- health: string (nullable = false)\n",
      " |-- tree_diameter: integer (nullable = true)\n",
      " |-- sidewalk: string (nullable = false)\n",
      " |-- problems_canopy_general: string (nullable = false)\n",
      " |-- problems_guard_general: string (nullable = false)\n",
      " |-- problems_wires_general: string (nullable = false)\n",
      " |-- problems_paving_general: string (nullable = false)\n",
      " |-- problems_outlet_general: string (nullable = false)\n",
      " |-- problems_shoes_general: string (nullable = false)\n",
      " |-- problems_lights_general: string (nullable = false)\n",
      " |-- problems_trunk_general: string (nullable = false)\n",
      " |-- problems_trunk_light: string (nullable = true)\n",
      " |-- problems_trunk_wire: string (nullable = true)\n",
      " |-- problems_trunk_other: string (nullable = true)\n",
      " |-- problems_root_stone: string (nullable = true)\n",
      " |-- problems_root_grate: string (nullable = true)\n",
      " |-- problems_root_other: string (nullable = true)\n",
      " |-- problems_branch_light: string (nullable = true)\n",
      " |-- problems_branch_shoe: string (nullable = true)\n",
      " |-- problems_branch_other: string (nullable = true)\n",
      " |-- user_type: string (nullable = true)\n",
      "\n"
     ]
    }
   ],
   "source": [
    "#Seleciono as colunas que quero nas arvores2015\n",
    "arvores2015_Guardar = arvores2015.select(\"tree_id\",\"year\",\"state\",\"address\",\"boroname\",\"borocode\",\"latin_species_name\",\"comun_species_name\",\"health\",\"tree_diameter\",\"sidewalk\",\"problems_canopy_general\",\"problems_guard_general\",\"problems_wires_general\",\"problems_paving_general\",\"problems_outlet_general\",\"problems_shoes_general\",\"problems_lights_general\",\"problems_trunk_general\",\"problems_trunk_light\",\"problems_trunk_wire\",\"problems_trunk_other\",\"problems_root_stone\",\"problems_root_grate\",\"problems_root_other\", \"problems_branch_light\", \"problems_branch_shoe\",\"problems_branch_other\", \"user_type\")\n",
    "arvores2015_Guardar.printSchema()"
   ]
  },
  {
   "cell_type": "code",
   "execution_count": 50,
   "id": "cd901448-2768-4b27-bae6-32df6896cd5c",
   "metadata": {},
   "outputs": [],
   "source": [
    "#Junta o dataset arvores2015_Guardar com o arvores2005_Guardar\n",
    "arvoresFinal = arvores2015_Guardar.union(arvores2005_Guardar)"
   ]
  },
  {
   "cell_type": "code",
   "execution_count": 51,
   "id": "ae6623bf-99a0-4fd6-b3c5-0df533625f26",
   "metadata": {},
   "outputs": [],
   "source": [
    "#Junta o dataset arvores1995 aos outros dois datasets\n",
    "arvoresFinal_Guardar = arvoresFinal.union(arvores1995_Guardar)"
   ]
  },
  {
   "cell_type": "code",
   "execution_count": 52,
   "id": "3fbecf0f-b14c-4a36-b64f-6bd743d28929",
   "metadata": {},
   "outputs": [
    {
     "name": "stdout",
     "output_type": "stream",
     "text": [
      "+-------+\n",
      "| health|\n",
      "+-------+\n",
      "|   Dead|\n",
      "|   Good|\n",
      "|Unknown|\n",
      "|   Fair|\n",
      "|   Poor|\n",
      "+-------+\n",
      "\n"
     ]
    }
   ],
   "source": [
    "arvoresFinal_Guardar.createOrReplaceTempView(\"episodes\")\n",
    "\n",
    "sqlized_df = spark.sql(\n",
    "    \"\"\"\n",
    "    SELECT Distinct health\n",
    "    FROM episodes\n",
    "    \"\"\"\n",
    ")\n",
    "\n",
    "sqlized_df.show()"
   ]
  },
  {
   "cell_type": "code",
   "execution_count": 53,
   "id": "35398616-d4d6-426f-8fd2-2bc41321f974",
   "metadata": {},
   "outputs": [],
   "source": [
    "#write df to hive deltalake_table\n",
    "#.select(\"customer_name\",\"month\", \"sales\", \"year\")  reorder columns to match parquet table sequence\n",
    "arvoresFinal_Guardar \\\n",
    "    .select(\"tree_id\",\"year\",\"state\",\"address\",\"boroname\",\"borocode\",\"latin_species_name\",\"comun_species_name\",\"health\",\"tree_diameter\",\"sidewalk\",\"problems_canopy_general\",\"problems_guard_general\",\"problems_wires_general\",\"problems_paving_general\",\"problems_outlet_general\",\"problems_shoes_general\",\"problems_lights_general\",\"problems_trunk_general\",\"problems_trunk_light\",\"problems_trunk_wire\",\"problems_trunk_other\",\"problems_root_stone\",\"problems_root_grate\",\"problems_root_other\", \"problems_branch_light\", \"problems_branch_shoe\",\"problems_branch_other\", \"user_type\") \\\n",
    "    .write \\\n",
    "    .mode(\"overwrite\") \\\n",
    "    .partitionBy(\"year\") \\\n",
    "    .format(\"delta\") \\\n",
    "    .save(\"hdfs://hdfs-nn:9000/AreasVerdes/silver/arvores\")"
   ]
  },
  {
   "cell_type": "code",
   "execution_count": 54,
   "id": "b784e3dd-0702-4c96-ab06-e8759dc84c39",
   "metadata": {},
   "outputs": [
    {
     "name": "stdout",
     "output_type": "stream",
     "text": [
      "+-----------+---------+-----------+\n",
      "|  namespace|tableName|isTemporary|\n",
      "+-----------+---------+-----------+\n",
      "|areasverdes|  arvores|      false|\n",
      "|           | episodes|      false|\n",
      "+-----------+---------+-----------+\n",
      "\n"
     ]
    }
   ],
   "source": [
    "spark.sql(\n",
    "    \"\"\"\n",
    "    SHOW TABLES FROM AreasVerdes\n",
    "    \"\"\"\n",
    ").show()"
   ]
  },
  {
   "cell_type": "code",
   "execution_count": 56,
   "id": "83e9517f-79dd-4cb1-9cba-7899cc42b355",
   "metadata": {},
   "outputs": [
    {
     "ename": "AnalysisException",
     "evalue": "Table or view not found: AreasVerdes.arvores_table; line 3 pos 9;\n'Distinct\n+- 'Project ['year, 'health]\n   +- 'UnresolvedRelation [AreasVerdes, arvores_table], [], false\n",
     "output_type": "error",
     "traceback": [
      "\u001b[0;31m---------------------------------------------------------------------------\u001b[0m",
      "\u001b[0;31mAnalysisException\u001b[0m                         Traceback (most recent call last)",
      "Cell \u001b[0;32mIn [56], line 1\u001b[0m\n\u001b[0;32m----> 1\u001b[0m spark\u001b[38;5;241m.\u001b[39msql(\n\u001b[1;32m      2\u001b[0m     \u001b[38;5;124;03m\"\"\"\u001b[39;00m\n\u001b[1;32m      3\u001b[0m \u001b[38;5;124;03m    SELECT Distinct year,health\u001b[39;00m\n\u001b[1;32m      4\u001b[0m \u001b[38;5;124;03m    FROM AreasVerdes.arvores_table\u001b[39;00m\n\u001b[1;32m      5\u001b[0m \u001b[38;5;124;03m    \"\"\"\u001b[39;00m\n\u001b[1;32m      6\u001b[0m )\u001b[38;5;241m.\u001b[39mshow()\n",
      "File \u001b[0;32m/usr/local/spark/python/pyspark/sql/session.py:1034\u001b[0m, in \u001b[0;36mSparkSession.sql\u001b[0;34m(self, sqlQuery, **kwargs)\u001b[0m\n\u001b[1;32m   1032\u001b[0m     sqlQuery \u001b[38;5;241m=\u001b[39m formatter\u001b[38;5;241m.\u001b[39mformat(sqlQuery, \u001b[38;5;241m*\u001b[39m\u001b[38;5;241m*\u001b[39mkwargs)\n\u001b[1;32m   1033\u001b[0m \u001b[38;5;28;01mtry\u001b[39;00m:\n\u001b[0;32m-> 1034\u001b[0m     \u001b[38;5;28;01mreturn\u001b[39;00m DataFrame(\u001b[38;5;28;43mself\u001b[39;49m\u001b[38;5;241;43m.\u001b[39;49m\u001b[43m_jsparkSession\u001b[49m\u001b[38;5;241;43m.\u001b[39;49m\u001b[43msql\u001b[49m\u001b[43m(\u001b[49m\u001b[43msqlQuery\u001b[49m\u001b[43m)\u001b[49m, \u001b[38;5;28mself\u001b[39m)\n\u001b[1;32m   1035\u001b[0m \u001b[38;5;28;01mfinally\u001b[39;00m:\n\u001b[1;32m   1036\u001b[0m     \u001b[38;5;28;01mif\u001b[39;00m \u001b[38;5;28mlen\u001b[39m(kwargs) \u001b[38;5;241m>\u001b[39m \u001b[38;5;241m0\u001b[39m:\n",
      "File \u001b[0;32m/usr/local/spark/python/lib/py4j-0.10.9.5-src.zip/py4j/java_gateway.py:1321\u001b[0m, in \u001b[0;36mJavaMember.__call__\u001b[0;34m(self, *args)\u001b[0m\n\u001b[1;32m   1315\u001b[0m command \u001b[38;5;241m=\u001b[39m proto\u001b[38;5;241m.\u001b[39mCALL_COMMAND_NAME \u001b[38;5;241m+\u001b[39m\\\n\u001b[1;32m   1316\u001b[0m     \u001b[38;5;28mself\u001b[39m\u001b[38;5;241m.\u001b[39mcommand_header \u001b[38;5;241m+\u001b[39m\\\n\u001b[1;32m   1317\u001b[0m     args_command \u001b[38;5;241m+\u001b[39m\\\n\u001b[1;32m   1318\u001b[0m     proto\u001b[38;5;241m.\u001b[39mEND_COMMAND_PART\n\u001b[1;32m   1320\u001b[0m answer \u001b[38;5;241m=\u001b[39m \u001b[38;5;28mself\u001b[39m\u001b[38;5;241m.\u001b[39mgateway_client\u001b[38;5;241m.\u001b[39msend_command(command)\n\u001b[0;32m-> 1321\u001b[0m return_value \u001b[38;5;241m=\u001b[39m \u001b[43mget_return_value\u001b[49m\u001b[43m(\u001b[49m\n\u001b[1;32m   1322\u001b[0m \u001b[43m    \u001b[49m\u001b[43manswer\u001b[49m\u001b[43m,\u001b[49m\u001b[43m \u001b[49m\u001b[38;5;28;43mself\u001b[39;49m\u001b[38;5;241;43m.\u001b[39;49m\u001b[43mgateway_client\u001b[49m\u001b[43m,\u001b[49m\u001b[43m \u001b[49m\u001b[38;5;28;43mself\u001b[39;49m\u001b[38;5;241;43m.\u001b[39;49m\u001b[43mtarget_id\u001b[49m\u001b[43m,\u001b[49m\u001b[43m \u001b[49m\u001b[38;5;28;43mself\u001b[39;49m\u001b[38;5;241;43m.\u001b[39;49m\u001b[43mname\u001b[49m\u001b[43m)\u001b[49m\n\u001b[1;32m   1324\u001b[0m \u001b[38;5;28;01mfor\u001b[39;00m temp_arg \u001b[38;5;129;01min\u001b[39;00m temp_args:\n\u001b[1;32m   1325\u001b[0m     temp_arg\u001b[38;5;241m.\u001b[39m_detach()\n",
      "File \u001b[0;32m/usr/local/spark/python/pyspark/sql/utils.py:196\u001b[0m, in \u001b[0;36mcapture_sql_exception.<locals>.deco\u001b[0;34m(*a, **kw)\u001b[0m\n\u001b[1;32m    192\u001b[0m converted \u001b[38;5;241m=\u001b[39m convert_exception(e\u001b[38;5;241m.\u001b[39mjava_exception)\n\u001b[1;32m    193\u001b[0m \u001b[38;5;28;01mif\u001b[39;00m \u001b[38;5;129;01mnot\u001b[39;00m \u001b[38;5;28misinstance\u001b[39m(converted, UnknownException):\n\u001b[1;32m    194\u001b[0m     \u001b[38;5;66;03m# Hide where the exception came from that shows a non-Pythonic\u001b[39;00m\n\u001b[1;32m    195\u001b[0m     \u001b[38;5;66;03m# JVM exception message.\u001b[39;00m\n\u001b[0;32m--> 196\u001b[0m     \u001b[38;5;28;01mraise\u001b[39;00m converted \u001b[38;5;28;01mfrom\u001b[39;00m \u001b[38;5;28mNone\u001b[39m\n\u001b[1;32m    197\u001b[0m \u001b[38;5;28;01melse\u001b[39;00m:\n\u001b[1;32m    198\u001b[0m     \u001b[38;5;28;01mraise\u001b[39;00m\n",
      "\u001b[0;31mAnalysisException\u001b[0m: Table or view not found: AreasVerdes.arvores_table; line 3 pos 9;\n'Distinct\n+- 'Project ['year, 'health]\n   +- 'UnresolvedRelation [AreasVerdes, arvores_table], [], false\n"
     ]
    }
   ],
   "source": [
    "spark.sql(\n",
    "    \"\"\"\n",
    "    SELECT Distinct year,health\n",
    "    FROM AreasVerdes.arvores_table\n",
    "    \"\"\"\n",
    ").show()"
   ]
  },
  {
   "cell_type": "code",
   "execution_count": 88,
   "id": "919fa56f-f0fb-4d95-865f-d2693c30117f",
   "metadata": {},
   "outputs": [],
   "source": [
    "spark.stop()"
   ]
  },
  {
   "cell_type": "code",
   "execution_count": null,
   "id": "ade2f77f-0f17-46ad-8143-7e8a39b684ab",
   "metadata": {},
   "outputs": [],
   "source": []
  }
 ],
 "metadata": {
  "kernelspec": {
   "display_name": "Python 3 (ipykernel)",
   "language": "python",
   "name": "python3"
  },
  "language_info": {
   "codemirror_mode": {
    "name": "ipython",
    "version": 3
   },
   "file_extension": ".py",
   "mimetype": "text/x-python",
   "name": "python",
   "nbconvert_exporter": "python",
   "pygments_lexer": "ipython3",
   "version": "3.10.6"
  }
 },
 "nbformat": 4,
 "nbformat_minor": 5
}
