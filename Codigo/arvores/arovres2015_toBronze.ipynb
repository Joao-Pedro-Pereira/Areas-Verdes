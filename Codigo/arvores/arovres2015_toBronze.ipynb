{
 "cells": [
  {
   "cell_type": "code",
   "execution_count": null,
   "id": "14abaa74-55d0-4b75-9277-60f3e7b1b8db",
   "metadata": {},
   "outputs": [],
   "source": [
    "from os import PathLike\n",
    "from hdfs import InsecureClient\n",
    "client=InsecureClient(\"http://hdfs-nn:9870\",user=\"anonymous\")\n",
    "\n",
    "from_path= \"./arvores2015.csv\"\n",
    "to_path=\"/AreasVerdes/bronze/arvores_csv/arvores2015.csv\"\n",
    "\n",
    "client.delete(to_path)\n",
    "client.upload(to_path,from_path)"
   ]
  }
 ],
 "metadata": {
  "kernelspec": {
   "display_name": "Python 3 (ipykernel)",
   "language": "python",
   "name": "python3"
  },
  "language_info": {
   "codemirror_mode": {
    "name": "ipython",
    "version": 3
   },
   "file_extension": ".py",
   "mimetype": "text/x-python",
   "name": "python",
   "nbconvert_exporter": "python",
   "pygments_lexer": "ipython3",
   "version": "3.10.6"
  }
 },
 "nbformat": 4,
 "nbformat_minor": 5
}
